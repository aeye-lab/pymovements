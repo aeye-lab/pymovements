{
 "cells": [
  {
   "cell_type": "markdown",
   "id": "011263bd",
   "metadata": {},
   "source": [
    "# Working with Datasets"
   ]
  },
  {
   "cell_type": "code",
   "execution_count": null,
   "id": "375b5f97",
   "metadata": {},
   "outputs": [],
   "source": [
    "from pymovements.datasets import JuDo1000\n",
    "from pymovements.events import ivt, microsaccades\n",
    "\n",
    "dataset = JuDo1000(\n",
    "    root='data/',\n",
    "    download=True,\n",
    "    extract=True,\n",
    "    remove_finished=False,\n",
    ")"
   ]
  },
  {
   "cell_type": "code",
   "execution_count": null,
   "id": "9585a173",
   "metadata": {},
   "outputs": [],
   "source": [
    "subset = {\n",
    "    'subject_id': [11, 22, 33, 77],\n",
    "    'session_id': [1, 2],\n",
    "}\n",
    "dataset.load(events=False, preprocessed=False, subset=subset)"
   ]
  },
  {
   "cell_type": "code",
   "execution_count": null,
   "id": "ff93298e",
   "metadata": {},
   "outputs": [],
   "source": [
    "dataset.fileinfo"
   ]
  },
  {
   "cell_type": "code",
   "execution_count": null,
   "id": "1cbab15d",
   "metadata": {},
   "outputs": [],
   "source": [
    "dataset.gaze[0]"
   ]
  },
  {
   "cell_type": "code",
   "execution_count": null,
   "id": "edd59432",
   "metadata": {},
   "outputs": [],
   "source": [
    "dataset.pix2deg()\n",
    "\n",
    "dataset.gaze[0]"
   ]
  },
  {
   "cell_type": "code",
   "execution_count": null,
   "id": "4590b9fd",
   "metadata": {},
   "outputs": [],
   "source": [
    "dataset.pos2vel(method='savitzky_golay', window_length=7, polyorder=2)\n",
    "\n",
    "dataset.gaze[0]"
   ]
  },
  {
   "cell_type": "code",
   "execution_count": null,
   "id": "a2e9a9bf",
   "metadata": {},
   "outputs": [],
   "source": [
    "dataset.detect_events(method=microsaccades)\n",
    "\n",
    "dataset.events[0]"
   ]
  },
  {
   "cell_type": "code",
   "execution_count": null,
   "id": "aef13b52",
   "metadata": {},
   "outputs": [],
   "source": [
    "dataset.detect_events(method=ivt, velocity_threshold=45, minimum_duration=55)\n",
    "\n",
    "dataset.events[0]"
   ]
  },
  {
   "cell_type": "code",
   "execution_count": null,
   "id": "1b00ef41",
   "metadata": {},
   "outputs": [],
   "source": [
    "dataset.save()"
   ]
  },
  {
   "cell_type": "code",
   "execution_count": null,
   "id": "821d490c",
   "metadata": {},
   "outputs": [],
   "source": [
    "del dataset"
   ]
  },
  {
   "cell_type": "code",
   "execution_count": null,
   "id": "f92137a0",
   "metadata": {},
   "outputs": [],
   "source": [
    "dataset = JuDo1000(\n",
    "    root='data/',\n",
    "    download=False,\n",
    "    extract=False,\n",
    "    remove_finished=False,\n",
    ")\n",
    "\n",
    "dataset.load(events=True, preprocessed=True, subset=subset)\n",
    "\n",
    "display(dataset.gaze[0])\n",
    "display(dataset.events[0])"
   ]
  }
 ],
 "metadata": {
  "kernelspec": {
   "display_name": "Python 3 (ipykernel)",
   "language": "python",
   "name": "python3"
  },
  "language_info": {
   "codemirror_mode": {
    "name": "ipython",
    "version": 3
   },
   "file_extension": ".py",
   "mimetype": "text/x-python",
   "name": "python",
   "nbconvert_exporter": "python",
   "pygments_lexer": "ipython3",
   "version": "3.10.9"
  }
 },
 "nbformat": 4,
 "nbformat_minor": 5
}
