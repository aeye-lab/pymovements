{
 "cells": [
  {
   "cell_type": "markdown",
   "id": "011263bd",
   "metadata": {},
   "source": [
    "# Detecting Gaze Events"
   ]
  },
  {
   "cell_type": "markdown",
   "id": "2d09e462",
   "metadata": {},
   "source": [
    "## What you will learn in this tutorial:\n",
    "\n",
    "* how to detect saccades using the microsaccades algorithm\n",
    "* how to detect fixations using the I-DT and I-VT algorithms"
   ]
  },
  {
   "cell_type": "markdown",
   "id": "d6365d21",
   "metadata": {},
   "source": [
    "## Preparations"
   ]
  },
  {
   "cell_type": "markdown",
   "id": "58f22201",
   "metadata": {},
   "source": [
    "We import `pymovements` as the alias `pm` for convenience."
   ]
  },
  {
   "cell_type": "code",
   "execution_count": 1,
   "id": "a3caa146",
   "metadata": {},
   "outputs": [
    {
     "name": "stderr",
     "output_type": "stream",
     "text": [
      "/home/krakowczyk/.local/lib/python3.11/site-packages/tqdm/auto.py:21: TqdmWarning: IProgress not found. Please update jupyter and ipywidgets. See https://ipywidgets.readthedocs.io/en/stable/user_install.html\n",
      "  from .autonotebook import tqdm as notebook_tqdm\n"
     ]
    }
   ],
   "source": [
    "import polars as pl\n",
    "\n",
    "import pymovements as pm"
   ]
  },
  {
   "cell_type": "markdown",
   "id": "532d4aa6",
   "metadata": {},
   "source": [
    "Let's start by downloading our `ToyDataset` and loading in its data:"
   ]
  },
  {
   "cell_type": "code",
   "execution_count": 2,
   "id": "375b5f97",
   "metadata": {},
   "outputs": [
    {
     "name": "stdout",
     "output_type": "stream",
     "text": [
      "Using already downloaded and verified file: data/ToyDataset/downloads/pymovements-toy-dataset.zip\n",
      "Extracting pymovements-toy-dataset.zip to data/ToyDataset/raw\n"
     ]
    },
    {
     "name": "stderr",
     "output_type": "stream",
     "text": [
      "100%|██████████████████████████████████████████████████████████████████| 20/20 [00:00<00:00, 397.79it/s]\n"
     ]
    },
    {
     "data": {
      "text/plain": [
       "<pymovements.dataset.dataset.Dataset at 0x7f5c977c0dd0>"
      ]
     },
     "execution_count": 2,
     "metadata": {},
     "output_type": "execute_result"
    }
   ],
   "source": [
    "dataset = pm.Dataset('ToyDataset', path='data/ToyDataset')\n",
    "dataset.download()\n",
    "dataset.load()"
   ]
  },
  {
   "cell_type": "markdown",
   "id": "6b57001a",
   "metadata": {},
   "source": [
    "Now let's do some basic preprocessing:"
   ]
  },
  {
   "cell_type": "code",
   "execution_count": 3,
   "id": "5df0408a",
   "metadata": {},
   "outputs": [
    {
     "name": "stderr",
     "output_type": "stream",
     "text": [
      "100%|██████████████████████████████████████████████████████████████████| 20/20 [00:00<00:00, 375.09it/s]\n",
      "100%|██████████████████████████████████████████████████████████████████| 20/20 [00:00<00:00, 560.91it/s]\n"
     ]
    },
    {
     "data": {
      "text/html": [
       "<div><style>\n",
       ".dataframe > thead > tr > th,\n",
       ".dataframe > tbody > tr > td {\n",
       "  text-align: right;\n",
       "}\n",
       "</style>\n",
       "<small>shape: (5, 9)</small><table border=\"1\" class=\"dataframe\"><thead><tr><th>text_id</th><th>page_id</th><th>time</th><th>x_right_pix</th><th>y_right_pix</th><th>x_right_pos</th><th>y_right_pos</th><th>y_right_vel</th><th>x_right_vel</th></tr><tr><td>i64</td><td>i64</td><td>f64</td><td>f64</td><td>f64</td><td>f64</td><td>f64</td><td>f64</td><td>f64</td></tr></thead><tbody><tr><td>0</td><td>1</td><td>1.988145e6</td><td>206.8</td><td>152.4</td><td>-10.697598</td><td>-8.852399</td><td>-3.639106</td><td>1.207626</td></tr><tr><td>0</td><td>1</td><td>1.988146e6</td><td>206.9</td><td>152.1</td><td>-10.695183</td><td>-8.859678</td><td>-7.278067</td><td>2.415272</td></tr><tr><td>0</td><td>1</td><td>1.988147e6</td><td>207.0</td><td>151.8</td><td>-10.692768</td><td>-8.866956</td><td>-5.256267</td><td>1.610194</td></tr><tr><td>0</td><td>1</td><td>1.988148e6</td><td>207.1</td><td>151.7</td><td>-10.690352</td><td>-8.869381</td><td>-4.447465</td><td>0.402548</td></tr><tr><td>0</td><td>1</td><td>1.988149e6</td><td>207.0</td><td>151.5</td><td>-10.692768</td><td>-8.874233</td><td>-3.234462</td><td>0.402561</td></tr></tbody></table></div>"
      ],
      "text/plain": [
       "shape: (5, 9)\n",
       "┌─────────┬─────────┬──────────────┬───────────┬───┬───────────┬───────────┬───────────┬───────────┐\n",
       "│ text_id ┆ page_id ┆ time         ┆ x_right_p ┆ … ┆ x_right_p ┆ y_right_p ┆ y_right_v ┆ x_right_v │\n",
       "│ ---     ┆ ---     ┆ ---          ┆ ix        ┆   ┆ os        ┆ os        ┆ el        ┆ el        │\n",
       "│ i64     ┆ i64     ┆ f64          ┆ ---       ┆   ┆ ---       ┆ ---       ┆ ---       ┆ ---       │\n",
       "│         ┆         ┆              ┆ f64       ┆   ┆ f64       ┆ f64       ┆ f64       ┆ f64       │\n",
       "╞═════════╪═════════╪══════════════╪═══════════╪═══╪═══════════╪═══════════╪═══════════╪═══════════╡\n",
       "│ 0       ┆ 1       ┆ 1.988145e6   ┆ 206.8     ┆ … ┆ -10.69759 ┆ -8.852399 ┆ -3.639106 ┆ 1.207626  │\n",
       "│         ┆         ┆              ┆           ┆   ┆ 8         ┆           ┆           ┆           │\n",
       "│ 0       ┆ 1       ┆ 1.988146e6   ┆ 206.9     ┆ … ┆ -10.69518 ┆ -8.859678 ┆ -7.278067 ┆ 2.415272  │\n",
       "│         ┆         ┆              ┆           ┆   ┆ 3         ┆           ┆           ┆           │\n",
       "│ 0       ┆ 1       ┆ 1.988147e6   ┆ 207.0     ┆ … ┆ -10.69276 ┆ -8.866956 ┆ -5.256267 ┆ 1.610194  │\n",
       "│         ┆         ┆              ┆           ┆   ┆ 8         ┆           ┆           ┆           │\n",
       "│ 0       ┆ 1       ┆ 1.988148e6   ┆ 207.1     ┆ … ┆ -10.69035 ┆ -8.869381 ┆ -4.447465 ┆ 0.402548  │\n",
       "│         ┆         ┆              ┆           ┆   ┆ 2         ┆           ┆           ┆           │\n",
       "│ 0       ┆ 1       ┆ 1.988149e6   ┆ 207.0     ┆ … ┆ -10.69276 ┆ -8.874233 ┆ -3.234462 ┆ 0.402561  │\n",
       "│         ┆         ┆              ┆           ┆   ┆ 8         ┆           ┆           ┆           │\n",
       "└─────────┴─────────┴──────────────┴───────────┴───┴───────────┴───────────┴───────────┴───────────┘"
      ]
     },
     "execution_count": 3,
     "metadata": {},
     "output_type": "execute_result"
    }
   ],
   "source": [
    "dataset.pix2deg()\n",
    "dataset.pos2vel('smooth')\n",
    "\n",
    "dataset.gaze[0].frame.head()"
   ]
  },
  {
   "cell_type": "markdown",
   "id": "2c14584d",
   "metadata": {},
   "source": [
    "## Detecting Events"
   ]
  },
  {
   "cell_type": "markdown",
   "id": "cc12e58d",
   "metadata": {},
   "source": [
    "*pymovements* provides a range of event detection methods for several types of gaze events.\n",
    "\n",
    "See the reference for [pymovements.events](https://pymovements.readthedocs.io/en/latest/reference/pymovements.events.html) to get an overview of all the supported methods.\n",
    "\n",
    "For this tutorial we will use the `microsaccades` algorithm for detecting saccades and the I-DT and I-VT algorithms for detecting fixations."
   ]
  },
  {
   "cell_type": "markdown",
   "id": "b10421cf",
   "metadata": {},
   "source": [
    "We start out by detecting saccades."
   ]
  },
  {
   "cell_type": "code",
   "execution_count": 4,
   "id": "a2e450ea",
   "metadata": {},
   "outputs": [
    {
     "name": "stderr",
     "output_type": "stream",
     "text": [
      "20it [00:00, 116.62it/s]\n"
     ]
    },
    {
     "data": {
      "text/plain": [
       "<pymovements.dataset.dataset.Dataset at 0x7f5c977c0dd0>"
      ]
     },
     "execution_count": 4,
     "metadata": {},
     "output_type": "execute_result"
    }
   ],
   "source": [
    "dataset.detect_events('microsaccades', minimum_duration=12)"
   ]
  },
  {
   "cell_type": "markdown",
   "id": "5a0b1bc1",
   "metadata": {},
   "source": [
    "The detected events are added as rows with the name `saccade` to the event dataframe:"
   ]
  },
  {
   "cell_type": "code",
   "execution_count": 5,
   "id": "b1b05082",
   "metadata": {},
   "outputs": [
    {
     "data": {
      "text/html": [
       "<div><style>\n",
       ".dataframe > thead > tr > th,\n",
       ".dataframe > tbody > tr > td {\n",
       "  text-align: right;\n",
       "}\n",
       "</style>\n",
       "<small>shape: (5, 6)</small><table border=\"1\" class=\"dataframe\"><thead><tr><th>text_id</th><th>page_id</th><th>name</th><th>onset</th><th>offset</th><th>duration</th></tr><tr><td>i64</td><td>i64</td><td>str</td><td>i64</td><td>i64</td><td>i64</td></tr></thead><tbody><tr><td>0</td><td>1</td><td>&quot;saccade&quot;</td><td>1988323</td><td>1988337</td><td>14</td></tr><tr><td>0</td><td>1</td><td>&quot;saccade&quot;</td><td>1988547</td><td>1988567</td><td>20</td></tr><tr><td>0</td><td>1</td><td>&quot;saccade&quot;</td><td>1988737</td><td>1988760</td><td>23</td></tr><tr><td>0</td><td>1</td><td>&quot;saccade&quot;</td><td>1988765</td><td>1988777</td><td>12</td></tr><tr><td>0</td><td>1</td><td>&quot;saccade&quot;</td><td>1989014</td><td>1989031</td><td>17</td></tr></tbody></table></div>"
      ],
      "text/plain": [
       "shape: (5, 6)\n",
       "┌─────────┬─────────┬─────────┬─────────┬─────────┬──────────┐\n",
       "│ text_id ┆ page_id ┆ name    ┆ onset   ┆ offset  ┆ duration │\n",
       "│ ---     ┆ ---     ┆ ---     ┆ ---     ┆ ---     ┆ ---      │\n",
       "│ i64     ┆ i64     ┆ str     ┆ i64     ┆ i64     ┆ i64      │\n",
       "╞═════════╪═════════╪═════════╪═════════╪═════════╪══════════╡\n",
       "│ 0       ┆ 1       ┆ saccade ┆ 1988323 ┆ 1988337 ┆ 14       │\n",
       "│ 0       ┆ 1       ┆ saccade ┆ 1988547 ┆ 1988567 ┆ 20       │\n",
       "│ 0       ┆ 1       ┆ saccade ┆ 1988737 ┆ 1988760 ┆ 23       │\n",
       "│ 0       ┆ 1       ┆ saccade ┆ 1988765 ┆ 1988777 ┆ 12       │\n",
       "│ 0       ┆ 1       ┆ saccade ┆ 1989014 ┆ 1989031 ┆ 17       │\n",
       "└─────────┴─────────┴─────────┴─────────┴─────────┴──────────┘"
      ]
     },
     "execution_count": 5,
     "metadata": {},
     "output_type": "execute_result"
    }
   ],
   "source": [
    "dataset.events[0].frame.head()"
   ]
  },
  {
   "cell_type": "markdown",
   "id": "a9968885",
   "metadata": {},
   "source": [
    "Next we will detect fixations using the I-DT and I-VT algorithms.\n",
    "\n",
    "To be able to differentiate between the detected events, we specify custom event names for each algorithm:"
   ]
  },
  {
   "cell_type": "markdown",
   "id": "a65bb9dc",
   "metadata": {},
   "source": [
    "dataset.detect_events('idt', dispersion_threshold=2.7)\n",
    "dataset.detect_events('ivt', velocity_threshold=20)"
   ]
  },
  {
   "cell_type": "code",
   "execution_count": 8,
   "id": "8f3ea55b",
   "metadata": {},
   "outputs": [
    {
     "data": {
      "text/html": [
       "<div><style>\n",
       ".dataframe > thead > tr > th,\n",
       ".dataframe > tbody > tr > td {\n",
       "  text-align: right;\n",
       "}\n",
       "</style>\n",
       "<small>shape: (5, 6)</small><table border=\"1\" class=\"dataframe\"><thead><tr><th>text_id</th><th>page_id</th><th>name</th><th>onset</th><th>offset</th><th>duration</th></tr><tr><td>i64</td><td>i64</td><td>str</td><td>i64</td><td>i64</td><td>i64</td></tr></thead><tbody><tr><td>0</td><td>1</td><td>&quot;fixation&quot;</td><td>1988145</td><td>1988563</td><td>418</td></tr><tr><td>0</td><td>1</td><td>&quot;fixation&quot;</td><td>1988564</td><td>1988750</td><td>186</td></tr><tr><td>0</td><td>1</td><td>&quot;fixation&quot;</td><td>1988751</td><td>1989178</td><td>427</td></tr><tr><td>0</td><td>1</td><td>&quot;fixation&quot;</td><td>1989179</td><td>1989436</td><td>257</td></tr><tr><td>0</td><td>1</td><td>&quot;fixation&quot;</td><td>1989437</td><td>1989600</td><td>163</td></tr></tbody></table></div>"
      ],
      "text/plain": [
       "shape: (5, 6)\n",
       "┌─────────┬─────────┬──────────┬─────────┬─────────┬──────────┐\n",
       "│ text_id ┆ page_id ┆ name     ┆ onset   ┆ offset  ┆ duration │\n",
       "│ ---     ┆ ---     ┆ ---      ┆ ---     ┆ ---     ┆ ---      │\n",
       "│ i64     ┆ i64     ┆ str      ┆ i64     ┆ i64     ┆ i64      │\n",
       "╞═════════╪═════════╪══════════╪═════════╪═════════╪══════════╡\n",
       "│ 0       ┆ 1       ┆ fixation ┆ 1988145 ┆ 1988563 ┆ 418      │\n",
       "│ 0       ┆ 1       ┆ fixation ┆ 1988564 ┆ 1988750 ┆ 186      │\n",
       "│ 0       ┆ 1       ┆ fixation ┆ 1988751 ┆ 1989178 ┆ 427      │\n",
       "│ 0       ┆ 1       ┆ fixation ┆ 1989179 ┆ 1989436 ┆ 257      │\n",
       "│ 0       ┆ 1       ┆ fixation ┆ 1989437 ┆ 1989600 ┆ 163      │\n",
       "└─────────┴─────────┴──────────┴─────────┴─────────┴──────────┘"
      ]
     },
     "execution_count": 8,
     "metadata": {},
     "output_type": "execute_result"
    }
   ],
   "source": [
    "dataset.events[0].frame.filter(pl.col('name') == 'fixation').head()"
   ]
  },
  {
   "cell_type": "markdown",
   "id": "acdfbf60",
   "metadata": {},
   "source": [
    "This has added new rows with the fixation events to the event dataframe."
   ]
  },
  {
   "cell_type": "markdown",
   "id": "11e1f88e",
   "metadata": {},
   "source": [
    " "
   ]
  },
  {
   "cell_type": "markdown",
   "id": "c448ef0d",
   "metadata": {},
   "source": [
    "## What you have learned in this tutorial:\n",
    "\n",
    "* detecting saccades by using the microsaccades algorithm\n",
    "* detecting fixations by using the I-DT and I-VT algorithms"
   ]
  }
 ],
 "metadata": {
  "kernelspec": {
   "display_name": "Python 3 (ipykernel)",
   "language": "python",
   "name": "python3"
  },
  "language_info": {
   "codemirror_mode": {
    "name": "ipython",
    "version": 3
   },
   "file_extension": ".py",
   "mimetype": "text/x-python",
   "name": "python",
   "nbconvert_exporter": "python",
   "pygments_lexer": "ipython3",
   "version": "3.11.3"
  }
 },
 "nbformat": 4,
 "nbformat_minor": 5
}
