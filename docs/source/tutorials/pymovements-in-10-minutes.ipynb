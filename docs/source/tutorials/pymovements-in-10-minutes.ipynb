{
 "cells": [
  {
   "cell_type": "markdown",
   "id": "011263bd",
   "metadata": {},
   "source": [
    "# pymovements in 10 minutes"
   ]
  },
  {
   "cell_type": "markdown",
   "id": "6c897135",
   "metadata": {},
   "source": [
    "## What you will learn in this tutorial:\n",
    "\n",
    "* how to download one of the publicly available datasets\n",
    "* how to load a subset of the data into your memory\n",
    "* how to transform pixel coordinates into degrees of visual angle\n",
    "* how to transform positional data into velocity data\n",
    "* how to detect fixations by using the I-VT algorithm\n",
    "* how to detect saccades by using the microsaccades algorithm\n",
    "* how to compute additional event properties for your analysis\n",
    "* how to save your preprocessed data\n",
    "* how to plot the main saccadic sequence from your data"
   ]
  },
  {
   "cell_type": "markdown",
   "id": "9ab2fbb5",
   "metadata": {},
   "source": [
    "## Downloading one of the public datasets"
   ]
  },
  {
   "cell_type": "markdown",
   "id": "dd576dad",
   "metadata": {},
   "source": [
    "We import `pymovements` as the alias `pm` for convenience."
   ]
  },
  {
   "cell_type": "code",
   "execution_count": 1,
   "id": "375b5f97",
   "metadata": {},
   "outputs": [],
   "source": [
    "import polars as pl\n",
    "\n",
    "import pymovements as pm"
   ]
  },
  {
   "cell_type": "markdown",
   "id": "921efd83",
   "metadata": {},
   "source": [
    " "
   ]
  },
  {
   "cell_type": "markdown",
   "id": "2355f1b1",
   "metadata": {},
   "source": [
    "pymovements provides a library of publicly available datasets.\n",
    "\n",
    "You can browse through the available dataset definitions here:\n",
    "[Datasets](https://pymovements.readthedocs.io/en/latest/reference/pymovements.datasets.html#module-pymovements.datasets)\n",
    "\n",
    "For this tutorial we will limit ourselves to the `ToyDataset` due to its minimal space requirements.\n",
    "\n",
    "Other datasets can be downloaded by simply replacing `ToyDataset` with one of the other available datasets.\n",
    "\n",
    "We can initialize and download by passing the desired dataset name as a string argument.\n",
    "\n",
    "Additionally we need the root directory path of your data."
   ]
  },
  {
   "cell_type": "code",
   "execution_count": 2,
   "id": "f6e616e3",
   "metadata": {},
   "outputs": [
    {
     "name": "stdout",
     "output_type": "stream",
     "text": [
      "Using already downloaded and verified file: data/ToyDataset/downloads/pymovements-toy-dataset.zip\n",
      "Extracting pymovements-toy-dataset.zip to data/ToyDataset/raw\n"
     ]
    },
    {
     "data": {
      "text/plain": [
       "<pymovements.dataset.dataset.Dataset at 0x7f70102e6450>"
      ]
     },
     "execution_count": 2,
     "metadata": {},
     "output_type": "execute_result"
    }
   ],
   "source": [
    "dataset = pm.Dataset('ToyDataset', path='data/ToyDataset')\n",
    "dataset.download()"
   ]
  },
  {
   "cell_type": "markdown",
   "id": "a9fe1e46",
   "metadata": {},
   "source": [
    "Our downloaded dataset will be placed in new a directory with the name of the dataset:"
   ]
  },
  {
   "cell_type": "code",
   "execution_count": 3,
   "id": "fa402978",
   "metadata": {},
   "outputs": [
    {
     "data": {
      "text/plain": [
       "PosixPath('data/ToyDataset')"
      ]
     },
     "execution_count": 3,
     "metadata": {},
     "output_type": "execute_result"
    }
   ],
   "source": [
    "dataset.path"
   ]
  },
  {
   "cell_type": "markdown",
   "id": "b82bcfe3",
   "metadata": {},
   "source": [
    "Archive files are automatically extracted into the path specified by `Dataset.paths.raw`:"
   ]
  },
  {
   "cell_type": "code",
   "execution_count": 4,
   "id": "7d897514",
   "metadata": {},
   "outputs": [
    {
     "data": {
      "text/plain": [
       "PosixPath('data/ToyDataset/raw')"
      ]
     },
     "execution_count": 4,
     "metadata": {},
     "output_type": "execute_result"
    }
   ],
   "source": [
    "dataset.paths.raw"
   ]
  },
  {
   "cell_type": "markdown",
   "id": "ee446b78",
   "metadata": {},
   "source": [
    "## Loading in your data into memory"
   ]
  },
  {
   "cell_type": "markdown",
   "id": "2f0bcbf5",
   "metadata": {},
   "source": [
    "Next we load our dataset into memory to be able to work with it:"
   ]
  },
  {
   "cell_type": "code",
   "execution_count": 5,
   "id": "bc06a704",
   "metadata": {},
   "outputs": [
    {
     "data": {
      "application/vnd.jupyter.widget-view+json": {
       "model_id": "1aae4fe053b5402095e4bbfe4d2c7be3",
       "version_major": 2,
       "version_minor": 0
      },
      "text/plain": [
       "  0%|          | 0/20 [00:00<?, ?it/s]"
      ]
     },
     "metadata": {},
     "output_type": "display_data"
    },
    {
     "data": {
      "text/plain": [
       "<pymovements.dataset.dataset.Dataset at 0x7f70102e6450>"
      ]
     },
     "execution_count": 5,
     "metadata": {},
     "output_type": "execute_result"
    }
   ],
   "source": [
    "dataset.load()"
   ]
  },
  {
   "cell_type": "markdown",
   "id": "bc0b4262",
   "metadata": {},
   "source": [
    "This way we fill two attributes with data.\n",
    "First we have the `fileinfo` attribute which holds all the basic information for files:"
   ]
  },
  {
   "cell_type": "code",
   "execution_count": 6,
   "id": "6ffe72cf",
   "metadata": {},
   "outputs": [
    {
     "data": {
      "text/html": [
       "<div><style>\n",
       ".dataframe > thead > tr > th,\n",
       ".dataframe > tbody > tr > td {\n",
       "  text-align: right;\n",
       "}\n",
       "</style>\n",
       "<small>shape: (5, 3)</small><table border=\"1\" class=\"dataframe\"><thead><tr><th>text_id</th><th>page_id</th><th>filepath</th></tr><tr><td>i64</td><td>i64</td><td>str</td></tr></thead><tbody><tr><td>0</td><td>1</td><td>&quot;aeye-lab-pymov…</td></tr><tr><td>0</td><td>2</td><td>&quot;aeye-lab-pymov…</td></tr><tr><td>0</td><td>3</td><td>&quot;aeye-lab-pymov…</td></tr><tr><td>0</td><td>4</td><td>&quot;aeye-lab-pymov…</td></tr><tr><td>0</td><td>5</td><td>&quot;aeye-lab-pymov…</td></tr></tbody></table></div>"
      ],
      "text/plain": [
       "shape: (5, 3)\n",
       "┌─────────┬─────────┬───────────────────────────────────┐\n",
       "│ text_id ┆ page_id ┆ filepath                          │\n",
       "│ ---     ┆ ---     ┆ ---                               │\n",
       "│ i64     ┆ i64     ┆ str                               │\n",
       "╞═════════╪═════════╪═══════════════════════════════════╡\n",
       "│ 0       ┆ 1       ┆ aeye-lab-pymovements-toy-dataset… │\n",
       "│ 0       ┆ 2       ┆ aeye-lab-pymovements-toy-dataset… │\n",
       "│ 0       ┆ 3       ┆ aeye-lab-pymovements-toy-dataset… │\n",
       "│ 0       ┆ 4       ┆ aeye-lab-pymovements-toy-dataset… │\n",
       "│ 0       ┆ 5       ┆ aeye-lab-pymovements-toy-dataset… │\n",
       "└─────────┴─────────┴───────────────────────────────────┘"
      ]
     },
     "execution_count": 6,
     "metadata": {},
     "output_type": "execute_result"
    }
   ],
   "source": [
    "dataset.fileinfo.head()"
   ]
  },
  {
   "cell_type": "markdown",
   "id": "190b373d",
   "metadata": {},
   "source": [
    "We notice that for each filepath a `text_id` and `page_id` is specified.\n",
    "\n",
    "We have also loaded our gaze data into the dataframes in the `gaze` attribute:"
   ]
  },
  {
   "cell_type": "code",
   "execution_count": 7,
   "id": "c0cf7faa",
   "metadata": {},
   "outputs": [
    {
     "data": {
      "text/html": [
       "<div><style>\n",
       ".dataframe > thead > tr > th,\n",
       ".dataframe > tbody > tr > td {\n",
       "  text-align: right;\n",
       "}\n",
       "</style>\n",
       "<small>shape: (5, 5)</small><table border=\"1\" class=\"dataframe\"><thead><tr><th>text_id</th><th>page_id</th><th>time</th><th>x_right_pix</th><th>y_right_pix</th></tr><tr><td>i64</td><td>i64</td><td>f64</td><td>f64</td><td>f64</td></tr></thead><tbody><tr><td>0</td><td>1</td><td>1.988145e6</td><td>206.8</td><td>152.4</td></tr><tr><td>0</td><td>1</td><td>1.988146e6</td><td>206.9</td><td>152.1</td></tr><tr><td>0</td><td>1</td><td>1.988147e6</td><td>207.0</td><td>151.8</td></tr><tr><td>0</td><td>1</td><td>1.988148e6</td><td>207.1</td><td>151.7</td></tr><tr><td>0</td><td>1</td><td>1.988149e6</td><td>207.0</td><td>151.5</td></tr></tbody></table></div>"
      ],
      "text/plain": [
       "shape: (5, 5)\n",
       "┌─────────┬─────────┬────────────┬─────────────┬─────────────┐\n",
       "│ text_id ┆ page_id ┆ time       ┆ x_right_pix ┆ y_right_pix │\n",
       "│ ---     ┆ ---     ┆ ---        ┆ ---         ┆ ---         │\n",
       "│ i64     ┆ i64     ┆ f64        ┆ f64         ┆ f64         │\n",
       "╞═════════╪═════════╪════════════╪═════════════╪═════════════╡\n",
       "│ 0       ┆ 1       ┆ 1.988145e6 ┆ 206.8       ┆ 152.4       │\n",
       "│ 0       ┆ 1       ┆ 1.988146e6 ┆ 206.9       ┆ 152.1       │\n",
       "│ 0       ┆ 1       ┆ 1.988147e6 ┆ 207.0       ┆ 151.8       │\n",
       "│ 0       ┆ 1       ┆ 1.988148e6 ┆ 207.1       ┆ 151.7       │\n",
       "│ 0       ┆ 1       ┆ 1.988149e6 ┆ 207.0       ┆ 151.5       │\n",
       "└─────────┴─────────┴────────────┴─────────────┴─────────────┘"
      ]
     },
     "execution_count": 7,
     "metadata": {},
     "output_type": "execute_result"
    }
   ],
   "source": [
    "dataset.gaze[0].frame.head()"
   ]
  },
  {
   "cell_type": "markdown",
   "id": "d58e7e7e",
   "metadata": {},
   "source": [
    "Apart from some trial identifier columns we see the columns `time` and `pixel`.\n",
    "\n",
    "The last two columns refer to the pixel coordinates at the timestep specified by `time`.\n",
    "\n",
    "\n",
    "We are also able to just take a subset of the data by specifying values of the fileinfo columns.\n",
    "The key refers to the column in the `fileinfo` dataframe.\n",
    "The values in the dictionary can be of type `bool`, `int`,  `float` or `str`, but also lists and ranges \n"
   ]
  },
  {
   "cell_type": "code",
   "execution_count": 8,
   "id": "9585a173",
   "metadata": {},
   "outputs": [
    {
     "ename": "TypeError",
     "evalue": "subset value must be of type bool, float, int, str or a list of these but key-value pair page_id: range(0, 3) is of type <class 'range'>",
     "output_type": "error",
     "traceback": [
      "\u001b[0;31m---------------------------------------------------------------------------\u001b[0m",
      "\u001b[0;31mTypeError\u001b[0m                                 Traceback (most recent call last)",
      "Cell \u001b[0;32mIn[8], line 5\u001b[0m\n\u001b[1;32m      1\u001b[0m subset \u001b[38;5;241m=\u001b[39m {\n\u001b[1;32m      2\u001b[0m     \u001b[38;5;124m'\u001b[39m\u001b[38;5;124mtext_id\u001b[39m\u001b[38;5;124m'\u001b[39m: \u001b[38;5;241m0\u001b[39m,\n\u001b[1;32m      3\u001b[0m     \u001b[38;5;124m'\u001b[39m\u001b[38;5;124mpage_id\u001b[39m\u001b[38;5;124m'\u001b[39m: \u001b[38;5;28mrange\u001b[39m(\u001b[38;5;241m3\u001b[39m),\n\u001b[1;32m      4\u001b[0m }\n\u001b[0;32m----> 5\u001b[0m \u001b[43mdataset\u001b[49m\u001b[38;5;241;43m.\u001b[39;49m\u001b[43mload\u001b[49m\u001b[43m(\u001b[49m\u001b[43msubset\u001b[49m\u001b[38;5;241;43m=\u001b[39;49m\u001b[43msubset\u001b[49m\u001b[43m)\u001b[49m\n\u001b[1;32m      7\u001b[0m dataset\u001b[38;5;241m.\u001b[39mfileinfo\n",
      "File \u001b[0;32m~/.local/lib/python3.11/site-packages/pymovements/dataset/dataset.py:121\u001b[0m, in \u001b[0;36mDataset.load\u001b[0;34m(self, events, preprocessed, subset, events_dirname, preprocessed_dirname, extension)\u001b[0m\n\u001b[1;32m     86\u001b[0m \u001b[38;5;250m\u001b[39m\u001b[38;5;124;03m\"\"\"Parse file information and load all gaze files.\u001b[39;00m\n\u001b[1;32m     87\u001b[0m \n\u001b[1;32m     88\u001b[0m \u001b[38;5;124;03mThe parsed file information is assigned to the `fileinfo` attribute.\u001b[39;00m\n\u001b[0;32m   (...)\u001b[0m\n\u001b[1;32m    118\u001b[0m \u001b[38;5;124;03m    Returns self, useful for method cascading.\u001b[39;00m\n\u001b[1;32m    119\u001b[0m \u001b[38;5;124;03m\"\"\"\u001b[39;00m\n\u001b[1;32m    120\u001b[0m \u001b[38;5;28mself\u001b[39m\u001b[38;5;241m.\u001b[39mscan()\n\u001b[0;32m--> 121\u001b[0m \u001b[38;5;28mself\u001b[39m\u001b[38;5;241m.\u001b[39mfileinfo \u001b[38;5;241m=\u001b[39m \u001b[43mdataset_files\u001b[49m\u001b[38;5;241;43m.\u001b[39;49m\u001b[43mtake_subset\u001b[49m\u001b[43m(\u001b[49m\u001b[43mfileinfo\u001b[49m\u001b[38;5;241;43m=\u001b[39;49m\u001b[38;5;28;43mself\u001b[39;49m\u001b[38;5;241;43m.\u001b[39;49m\u001b[43mfileinfo\u001b[49m\u001b[43m,\u001b[49m\u001b[43m \u001b[49m\u001b[43msubset\u001b[49m\u001b[38;5;241;43m=\u001b[39;49m\u001b[43msubset\u001b[49m\u001b[43m)\u001b[49m\n\u001b[1;32m    123\u001b[0m \u001b[38;5;28mself\u001b[39m\u001b[38;5;241m.\u001b[39mload_gaze_files(\n\u001b[1;32m    124\u001b[0m     preprocessed\u001b[38;5;241m=\u001b[39mpreprocessed, preprocessed_dirname\u001b[38;5;241m=\u001b[39mpreprocessed_dirname,\n\u001b[1;32m    125\u001b[0m     extension\u001b[38;5;241m=\u001b[39mextension,\n\u001b[1;32m    126\u001b[0m )\n\u001b[1;32m    128\u001b[0m \u001b[38;5;28;01mif\u001b[39;00m events:\n",
      "File \u001b[0;32m~/.local/lib/python3.11/site-packages/pymovements/dataset/dataset_files.py:502\u001b[0m, in \u001b[0;36mtake_subset\u001b[0;34m(fileinfo, subset)\u001b[0m\n\u001b[1;32m    500\u001b[0m         column_values \u001b[38;5;241m=\u001b[39m subset_value\n\u001b[1;32m    501\u001b[0m     \u001b[38;5;28;01melse\u001b[39;00m:\n\u001b[0;32m--> 502\u001b[0m         \u001b[38;5;28;01mraise\u001b[39;00m \u001b[38;5;167;01mTypeError\u001b[39;00m(\n\u001b[1;32m    503\u001b[0m             \u001b[38;5;124mf\u001b[39m\u001b[38;5;124m'\u001b[39m\u001b[38;5;124msubset value must be of type bool, float, int, str or a list of these but\u001b[39m\u001b[38;5;124m'\u001b[39m\n\u001b[1;32m    504\u001b[0m             \u001b[38;5;124mf\u001b[39m\u001b[38;5;124m'\u001b[39m\u001b[38;5;124m key-value pair \u001b[39m\u001b[38;5;132;01m{\u001b[39;00msubset_key\u001b[38;5;132;01m}\u001b[39;00m\u001b[38;5;124m: \u001b[39m\u001b[38;5;132;01m{\u001b[39;00msubset_value\u001b[38;5;132;01m}\u001b[39;00m\u001b[38;5;124m is of type \u001b[39m\u001b[38;5;132;01m{\u001b[39;00m\u001b[38;5;28mtype\u001b[39m(subset_value)\u001b[38;5;132;01m}\u001b[39;00m\u001b[38;5;124m'\u001b[39m,\n\u001b[1;32m    505\u001b[0m         )\n\u001b[1;32m    507\u001b[0m     fileinfo \u001b[38;5;241m=\u001b[39m fileinfo\u001b[38;5;241m.\u001b[39mfilter(pl\u001b[38;5;241m.\u001b[39mcol(subset_key)\u001b[38;5;241m.\u001b[39mis_in(column_values))\n\u001b[1;32m    508\u001b[0m \u001b[38;5;28;01mreturn\u001b[39;00m fileinfo\n",
      "\u001b[0;31mTypeError\u001b[0m: subset value must be of type bool, float, int, str or a list of these but key-value pair page_id: range(0, 3) is of type <class 'range'>"
     ]
    }
   ],
   "source": [
    "subset = {\n",
    "    'text_id': 0,\n",
    "    'page_id': range(3),\n",
    "}\n",
    "dataset.load(subset=subset)\n",
    "\n",
    "dataset.fileinfo"
   ]
  },
  {
   "cell_type": "markdown",
   "id": "173ed122",
   "metadata": {},
   "source": [
    "Now we selected only a small subset of our data."
   ]
  },
  {
   "cell_type": "markdown",
   "id": "49404ab4",
   "metadata": {},
   "source": [
    "## Preprocessing raw gaze data\n",
    "\n",
    "We now want to preprocess our gaze data by transforming pixel coordinates into degrees of visual angle and then computing velocity data from our positional data."
   ]
  },
  {
   "cell_type": "code",
   "execution_count": 10,
   "id": "ff93298e",
   "metadata": {},
   "outputs": [
    {
     "data": {
      "application/vnd.jupyter.widget-view+json": {
       "model_id": "48fde23bbabe42a186c52116612a6232",
       "version_major": 2,
       "version_minor": 0
      },
      "text/plain": [
       "  0%|          | 0/20 [00:00<?, ?it/s]"
      ]
     },
     "metadata": {},
     "output_type": "display_data"
    },
    {
     "data": {
      "text/html": [
       "<div><style>\n",
       ".dataframe > thead > tr > th,\n",
       ".dataframe > tbody > tr > td {\n",
       "  text-align: right;\n",
       "}\n",
       "</style>\n",
       "<small>shape: (5, 7)</small><table border=\"1\" class=\"dataframe\"><thead><tr><th>text_id</th><th>page_id</th><th>time</th><th>x_right_pix</th><th>y_right_pix</th><th>x_right_pos</th><th>y_right_pos</th></tr><tr><td>i64</td><td>i64</td><td>f64</td><td>f64</td><td>f64</td><td>f64</td><td>f64</td></tr></thead><tbody><tr><td>0</td><td>1</td><td>1.988145e6</td><td>206.8</td><td>152.4</td><td>-10.697598</td><td>-8.852399</td></tr><tr><td>0</td><td>1</td><td>1.988146e6</td><td>206.9</td><td>152.1</td><td>-10.695183</td><td>-8.859678</td></tr><tr><td>0</td><td>1</td><td>1.988147e6</td><td>207.0</td><td>151.8</td><td>-10.692768</td><td>-8.866956</td></tr><tr><td>0</td><td>1</td><td>1.988148e6</td><td>207.1</td><td>151.7</td><td>-10.690352</td><td>-8.869381</td></tr><tr><td>0</td><td>1</td><td>1.988149e6</td><td>207.0</td><td>151.5</td><td>-10.692768</td><td>-8.874233</td></tr></tbody></table></div>"
      ],
      "text/plain": [
       "shape: (5, 7)\n",
       "┌─────────┬─────────┬────────────┬─────────────┬─────────────┬─────────────┬─────────────┐\n",
       "│ text_id ┆ page_id ┆ time       ┆ x_right_pix ┆ y_right_pix ┆ x_right_pos ┆ y_right_pos │\n",
       "│ ---     ┆ ---     ┆ ---        ┆ ---         ┆ ---         ┆ ---         ┆ ---         │\n",
       "│ i64     ┆ i64     ┆ f64        ┆ f64         ┆ f64         ┆ f64         ┆ f64         │\n",
       "╞═════════╪═════════╪════════════╪═════════════╪═════════════╪═════════════╪═════════════╡\n",
       "│ 0       ┆ 1       ┆ 1.988145e6 ┆ 206.8       ┆ 152.4       ┆ -10.697598  ┆ -8.852399   │\n",
       "│ 0       ┆ 1       ┆ 1.988146e6 ┆ 206.9       ┆ 152.1       ┆ -10.695183  ┆ -8.859678   │\n",
       "│ 0       ┆ 1       ┆ 1.988147e6 ┆ 207.0       ┆ 151.8       ┆ -10.692768  ┆ -8.866956   │\n",
       "│ 0       ┆ 1       ┆ 1.988148e6 ┆ 207.1       ┆ 151.7       ┆ -10.690352  ┆ -8.869381   │\n",
       "│ 0       ┆ 1       ┆ 1.988149e6 ┆ 207.0       ┆ 151.5       ┆ -10.692768  ┆ -8.874233   │\n",
       "└─────────┴─────────┴────────────┴─────────────┴─────────────┴─────────────┴─────────────┘"
      ]
     },
     "execution_count": 10,
     "metadata": {},
     "output_type": "execute_result"
    }
   ],
   "source": [
    "dataset.pix2deg()\n",
    "\n",
    "dataset.gaze[0].frame.head()"
   ]
  },
  {
   "cell_type": "markdown",
   "id": "a96ddce5",
   "metadata": {},
   "source": [
    "We notice that a new column has appeared: `position`.\n",
    "This column specifies the position coordinates in degrees of visual angle (dva)."
   ]
  },
  {
   "cell_type": "markdown",
   "id": "93fa3dea",
   "metadata": {},
   "source": [
    "For transforming our positional data into velocity data we will use the *Savitzky-Golay* differentiation filter.\n",
    "\n",
    "We can also specify some additional parameters for this method:"
   ]
  },
  {
   "cell_type": "code",
   "execution_count": 11,
   "id": "4590b9fd",
   "metadata": {},
   "outputs": [
    {
     "data": {
      "application/vnd.jupyter.widget-view+json": {
       "model_id": "50d660ef826f4572b7429d266b6b98e3",
       "version_major": 2,
       "version_minor": 0
      },
      "text/plain": [
       "  0%|          | 0/20 [00:00<?, ?it/s]"
      ]
     },
     "metadata": {},
     "output_type": "display_data"
    },
    {
     "ename": "TypeError",
     "evalue": "savgol_filter() got an unexpected keyword argument 'degree'",
     "output_type": "error",
     "traceback": [
      "\u001b[0;31m---------------------------------------------------------------------------\u001b[0m",
      "\u001b[0;31mTypeError\u001b[0m                                 Traceback (most recent call last)",
      "Cell \u001b[0;32mIn[11], line 1\u001b[0m\n\u001b[0;32m----> 1\u001b[0m \u001b[43mdataset\u001b[49m\u001b[38;5;241;43m.\u001b[39;49m\u001b[43mpos2vel\u001b[49m\u001b[43m(\u001b[49m\u001b[43mmethod\u001b[49m\u001b[38;5;241;43m=\u001b[39;49m\u001b[38;5;124;43m'\u001b[39;49m\u001b[38;5;124;43msavitzky_golay\u001b[39;49m\u001b[38;5;124;43m'\u001b[39;49m\u001b[43m,\u001b[49m\u001b[43m \u001b[49m\u001b[43mdegree\u001b[49m\u001b[38;5;241;43m=\u001b[39;49m\u001b[38;5;241;43m2\u001b[39;49m\u001b[43m,\u001b[49m\u001b[43m \u001b[49m\u001b[43mwindow_length\u001b[49m\u001b[38;5;241;43m=\u001b[39;49m\u001b[38;5;241;43m7\u001b[39;49m\u001b[43m)\u001b[49m\n\u001b[1;32m      3\u001b[0m dataset\u001b[38;5;241m.\u001b[39mgaze[\u001b[38;5;241m0\u001b[39m]\u001b[38;5;241m.\u001b[39mframe\u001b[38;5;241m.\u001b[39mhead()\n",
      "File \u001b[0;32m~/.local/lib/python3.11/site-packages/pymovements/dataset/dataset.py:300\u001b[0m, in \u001b[0;36mDataset.pos2vel\u001b[0;34m(self, method, verbose, **kwargs)\u001b[0m\n\u001b[1;32m    298\u001b[0m disable_progressbar \u001b[38;5;241m=\u001b[39m \u001b[38;5;129;01mnot\u001b[39;00m verbose\n\u001b[1;32m    299\u001b[0m \u001b[38;5;28;01mfor\u001b[39;00m gaze_df \u001b[38;5;129;01min\u001b[39;00m tqdm(\u001b[38;5;28mself\u001b[39m\u001b[38;5;241m.\u001b[39mgaze, disable\u001b[38;5;241m=\u001b[39mdisable_progressbar):\n\u001b[0;32m--> 300\u001b[0m     \u001b[43mgaze_df\u001b[49m\u001b[38;5;241;43m.\u001b[39;49m\u001b[43mpos2vel\u001b[49m\u001b[43m(\u001b[49m\u001b[43mmethod\u001b[49m\u001b[38;5;241;43m=\u001b[39;49m\u001b[43mmethod\u001b[49m\u001b[43m,\u001b[49m\u001b[43m \u001b[49m\u001b[38;5;241;43m*\u001b[39;49m\u001b[38;5;241;43m*\u001b[39;49m\u001b[43mkwargs\u001b[49m\u001b[43m)\u001b[49m\n\u001b[1;32m    302\u001b[0m \u001b[38;5;28;01mreturn\u001b[39;00m \u001b[38;5;28mself\u001b[39m\n",
      "File \u001b[0;32m~/.local/lib/python3.11/site-packages/pymovements/gaze/gaze_dataframe.py:145\u001b[0m, in \u001b[0;36mGazeDataFrame.pos2vel\u001b[0;34m(self, method, **kwargs)\u001b[0m\n\u001b[1;32m    141\u001b[0m velocity_columns \u001b[38;5;241m=\u001b[39m \u001b[38;5;28mself\u001b[39m\u001b[38;5;241m.\u001b[39m_position_to_velocity_columns(position_columns)\n\u001b[1;32m    143\u001b[0m positions \u001b[38;5;241m=\u001b[39m \u001b[38;5;28mself\u001b[39m\u001b[38;5;241m.\u001b[39mframe\u001b[38;5;241m.\u001b[39mselect(position_columns)\n\u001b[0;32m--> 145\u001b[0m velocities \u001b[38;5;241m=\u001b[39m \u001b[38;5;28;43mself\u001b[39;49m\u001b[38;5;241;43m.\u001b[39;49m\u001b[43mexperiment\u001b[49m\u001b[38;5;241;43m.\u001b[39;49m\u001b[43mpos2vel\u001b[49m\u001b[43m(\u001b[49m\u001b[43mpositions\u001b[49m\u001b[38;5;241;43m.\u001b[39;49m\u001b[43mto_numpy\u001b[49m\u001b[43m(\u001b[49m\u001b[43m)\u001b[49m\u001b[43m,\u001b[49m\u001b[43m \u001b[49m\u001b[43mmethod\u001b[49m\u001b[38;5;241;43m=\u001b[39;49m\u001b[43mmethod\u001b[49m\u001b[43m,\u001b[49m\u001b[43m \u001b[49m\u001b[38;5;241;43m*\u001b[39;49m\u001b[38;5;241;43m*\u001b[39;49m\u001b[43mkwargs\u001b[49m\u001b[43m)\u001b[49m\n\u001b[1;32m    147\u001b[0m \u001b[38;5;28mself\u001b[39m\u001b[38;5;241m.\u001b[39mframe \u001b[38;5;241m=\u001b[39m \u001b[38;5;28mself\u001b[39m\u001b[38;5;241m.\u001b[39mframe\u001b[38;5;241m.\u001b[39mwith_columns(\n\u001b[1;32m    148\u001b[0m     [\n\u001b[1;32m    149\u001b[0m         pl\u001b[38;5;241m.\u001b[39mSeries(name\u001b[38;5;241m=\u001b[39mvelocity_column_name, values\u001b[38;5;241m=\u001b[39mvelocities[:, column_id])\n\u001b[1;32m    150\u001b[0m         \u001b[38;5;28;01mfor\u001b[39;00m column_id, velocity_column_name \u001b[38;5;129;01min\u001b[39;00m \u001b[38;5;28menumerate\u001b[39m(velocity_columns)\n\u001b[1;32m    151\u001b[0m     ],\n\u001b[1;32m    152\u001b[0m )\n",
      "File \u001b[0;32m~/.local/lib/python3.11/site-packages/pymovements/gaze/experiment.py:151\u001b[0m, in \u001b[0;36mExperiment.pos2vel\u001b[0;34m(self, arr, method, **kwargs)\u001b[0m\n\u001b[1;32m     97\u001b[0m \u001b[38;5;28;01mdef\u001b[39;00m \u001b[38;5;21mpos2vel\u001b[39m(\n\u001b[1;32m     98\u001b[0m         \u001b[38;5;28mself\u001b[39m,\n\u001b[1;32m     99\u001b[0m         arr: \u001b[38;5;28mlist\u001b[39m[\u001b[38;5;28mfloat\u001b[39m] \u001b[38;5;241m|\u001b[39m \u001b[38;5;28mlist\u001b[39m[\u001b[38;5;28mlist\u001b[39m[\u001b[38;5;28mfloat\u001b[39m]] \u001b[38;5;241m|\u001b[39m np\u001b[38;5;241m.\u001b[39mndarray,\n\u001b[1;32m    100\u001b[0m         method: \u001b[38;5;28mstr\u001b[39m \u001b[38;5;241m=\u001b[39m \u001b[38;5;124m'\u001b[39m\u001b[38;5;124msmooth\u001b[39m\u001b[38;5;124m'\u001b[39m,\n\u001b[1;32m    101\u001b[0m         \u001b[38;5;241m*\u001b[39m\u001b[38;5;241m*\u001b[39mkwargs: \u001b[38;5;28mint\u001b[39m \u001b[38;5;241m|\u001b[39m \u001b[38;5;28mfloat\u001b[39m \u001b[38;5;241m|\u001b[39m \u001b[38;5;28mstr\u001b[39m,\n\u001b[1;32m    102\u001b[0m ) \u001b[38;5;241m-\u001b[39m\u001b[38;5;241m>\u001b[39m np\u001b[38;5;241m.\u001b[39mndarray:\n\u001b[1;32m    103\u001b[0m \u001b[38;5;250m    \u001b[39m\u001b[38;5;124;03m\"\"\"Compute velocity time series from 2-dimensional position time series.\u001b[39;00m\n\u001b[1;32m    104\u001b[0m \n\u001b[1;32m    105\u001b[0m \u001b[38;5;124;03m    Methods 'smooth', 'neighbors' and 'preceding' are adapted from\u001b[39;00m\n\u001b[0;32m   (...)\u001b[0m\n\u001b[1;32m    149\u001b[0m \u001b[38;5;124;03m           [ 500.,  500.]])\u001b[39;00m\n\u001b[1;32m    150\u001b[0m \u001b[38;5;124;03m    \"\"\"\u001b[39;00m\n\u001b[0;32m--> 151\u001b[0m     \u001b[38;5;28;01mreturn\u001b[39;00m \u001b[43mtransforms\u001b[49m\u001b[38;5;241;43m.\u001b[39;49m\u001b[43mpos2vel\u001b[49m\u001b[43m(\u001b[49m\n\u001b[1;32m    152\u001b[0m \u001b[43m        \u001b[49m\u001b[43marr\u001b[49m\u001b[38;5;241;43m=\u001b[39;49m\u001b[43marr\u001b[49m\u001b[43m,\u001b[49m\u001b[43m \u001b[49m\u001b[43msampling_rate\u001b[49m\u001b[38;5;241;43m=\u001b[39;49m\u001b[38;5;28;43mself\u001b[39;49m\u001b[38;5;241;43m.\u001b[39;49m\u001b[43msampling_rate\u001b[49m\u001b[43m,\u001b[49m\u001b[43m \u001b[49m\u001b[43mmethod\u001b[49m\u001b[38;5;241;43m=\u001b[39;49m\u001b[43mmethod\u001b[49m\u001b[43m,\u001b[49m\u001b[43m \u001b[49m\u001b[38;5;241;43m*\u001b[39;49m\u001b[38;5;241;43m*\u001b[39;49m\u001b[43mkwargs\u001b[49m\u001b[43m,\u001b[49m\n\u001b[1;32m    153\u001b[0m \u001b[43m    \u001b[49m\u001b[43m)\u001b[49m\n",
      "File \u001b[0;32m~/.local/lib/python3.11/site-packages/pymovements/gaze/transforms.py:281\u001b[0m, in \u001b[0;36mpos2vel\u001b[0;34m(arr, sampling_rate, method, **kwargs)\u001b[0m\n\u001b[1;32m    278\u001b[0m     \u001b[38;5;28;01melse\u001b[39;00m:  \u001b[38;5;66;03m# we already checked for error cases\u001b[39;00m\n\u001b[1;32m    280\u001b[0m         \u001b[38;5;28;01mfor\u001b[39;00m channel_id \u001b[38;5;129;01min\u001b[39;00m \u001b[38;5;28mrange\u001b[39m(arr\u001b[38;5;241m.\u001b[39mshape[\u001b[38;5;241m1\u001b[39m]):\n\u001b[0;32m--> 281\u001b[0m             v[:, channel_id] \u001b[38;5;241m=\u001b[39m \u001b[43msavgol_filter\u001b[49m\u001b[43m(\u001b[49m\n\u001b[1;32m    282\u001b[0m \u001b[43m                \u001b[49m\u001b[43mx\u001b[49m\u001b[38;5;241;43m=\u001b[39;49m\u001b[43marr\u001b[49m\u001b[43m[\u001b[49m\u001b[43m:\u001b[49m\u001b[43m,\u001b[49m\u001b[43m \u001b[49m\u001b[43mchannel_id\u001b[49m\u001b[43m]\u001b[49m\u001b[43m,\u001b[49m\u001b[43m \u001b[49m\u001b[43mderiv\u001b[49m\u001b[38;5;241;43m=\u001b[39;49m\u001b[38;5;241;43m1\u001b[39;49m\u001b[43m,\u001b[49m\u001b[43m \u001b[49m\u001b[38;5;241;43m*\u001b[39;49m\u001b[38;5;241;43m*\u001b[39;49m\u001b[43mkwargs\u001b[49m\u001b[43m,\u001b[49m\n\u001b[1;32m    283\u001b[0m \u001b[43m            \u001b[49m\u001b[43m)\u001b[49m\n\u001b[1;32m    284\u001b[0m     v \u001b[38;5;241m=\u001b[39m v \u001b[38;5;241m*\u001b[39m sampling_rate\n\u001b[1;32m    286\u001b[0m \u001b[38;5;28;01melse\u001b[39;00m:\n",
      "\u001b[0;31mTypeError\u001b[0m: savgol_filter() got an unexpected keyword argument 'degree'"
     ]
    }
   ],
   "source": [
    "dataset.pos2vel(method='savitzky_golay', degree=2, window_length=7)\n",
    "\n",
    "dataset.gaze[0].frame.head()"
   ]
  },
  {
   "cell_type": "markdown",
   "id": "5581b4b8",
   "metadata": {},
   "source": [
    "There is also the more general apply() method, which can be used to apply both transformation and event detection methods."
   ]
  },
  {
   "cell_type": "code",
   "execution_count": 12,
   "id": "c4ac5b07",
   "metadata": {},
   "outputs": [
    {
     "ename": "AttributeError",
     "evalue": "'Dataset' object has no attribute 'apply'",
     "output_type": "error",
     "traceback": [
      "\u001b[0;31m---------------------------------------------------------------------------\u001b[0m",
      "\u001b[0;31mAttributeError\u001b[0m                            Traceback (most recent call last)",
      "Cell \u001b[0;32mIn[12], line 1\u001b[0m\n\u001b[0;32m----> 1\u001b[0m \u001b[43mdataset\u001b[49m\u001b[38;5;241;43m.\u001b[39;49m\u001b[43mapply\u001b[49m(\u001b[38;5;124m'\u001b[39m\u001b[38;5;124mpos2acc\u001b[39m\u001b[38;5;124m'\u001b[39m, degree\u001b[38;5;241m=\u001b[39m\u001b[38;5;241m2\u001b[39m, window_length\u001b[38;5;241m=\u001b[39m\u001b[38;5;241m7\u001b[39m)\n\u001b[1;32m      3\u001b[0m dataset\u001b[38;5;241m.\u001b[39mgaze[\u001b[38;5;241m0\u001b[39m]\u001b[38;5;241m.\u001b[39mframe\u001b[38;5;241m.\u001b[39mhead()\n",
      "\u001b[0;31mAttributeError\u001b[0m: 'Dataset' object has no attribute 'apply'"
     ]
    }
   ],
   "source": [
    "dataset.apply('pos2acc', degree=2, window_length=7)\n",
    "\n",
    "dataset.gaze[0].frame.head()"
   ]
  },
  {
   "cell_type": "markdown",
   "id": "a108db37",
   "metadata": {},
   "source": [
    "## Detecting events"
   ]
  },
  {
   "cell_type": "markdown",
   "id": "f50604aa",
   "metadata": {},
   "source": [
    "Now let's detect some events.\n",
    "\n",
    "First we will detect fixations using the I-VT algorithm using its default parameters:"
   ]
  },
  {
   "cell_type": "code",
   "execution_count": null,
   "id": "a2e9a9bf",
   "metadata": {},
   "outputs": [],
   "source": [
    "dataset.detect_events('ivt')\n",
    "\n",
    "dataset.events[0].frame.head()"
   ]
  },
  {
   "cell_type": "markdown",
   "id": "6b1e5d48",
   "metadata": {},
   "source": [
    "Next we detect some saccades. This time we don't use the default parameters but specify our own:"
   ]
  },
  {
   "cell_type": "code",
   "execution_count": null,
   "id": "aef13b52",
   "metadata": {},
   "outputs": [],
   "source": [
    "dataset.detect_events('microsaccades', minimum_duration=8)\n",
    "\n",
    "dataset.events[0].frame.filter(pl.col('name') == 'saccade').head()"
   ]
  },
  {
   "cell_type": "markdown",
   "id": "8527a267",
   "metadata": {},
   "source": [
    "We can also use the more general interface of the apply() method:"
   ]
  },
  {
   "cell_type": "code",
   "execution_count": null,
   "id": "7303afbb",
   "metadata": {},
   "outputs": [],
   "source": [
    "dataset.apply('idt', dispersion_threshold=2.7, name='fixation.ivt')\n",
    "\n",
    "dataset.events[0].frame.filter(pl.col('name') == 'fixation.ivt').head()"
   ]
  },
  {
   "cell_type": "markdown",
   "id": "a38fcea7",
   "metadata": {},
   "source": [
    "## Computing event properties"
   ]
  },
  {
   "cell_type": "markdown",
   "id": "2bdc5534",
   "metadata": {},
   "source": [
    "The event dataframe currently only holds the `name`, `onset`, `offset` and `duration` of an event (additionally we have some more identifier columns at the beginning).\n",
    "\n",
    "We now want to compute some additional properties for each event.\n",
    "Event properties are things like peak velocity, amplitude and dispersion during an event.\n",
    "\n",
    "We start out with computing the dispersion:"
   ]
  },
  {
   "cell_type": "code",
   "execution_count": null,
   "id": "4f16b4ee",
   "metadata": {},
   "outputs": [],
   "source": [
    "dataset.compute_event_properties(\"dispersion\")\n",
    "\n",
    "dataset.events[0].frame.head()"
   ]
  },
  {
   "cell_type": "markdown",
   "id": "199e4b8a",
   "metadata": {},
   "source": [
    "We notice that a new column with the name `dispersion` has appeared in the event dataframe.\n",
    "\n",
    "We can also pass a list of properties to compute all of our desired properties in a single run.\n",
    "Let's add the amplitude and peak velocity:"
   ]
  },
  {
   "cell_type": "code",
   "execution_count": null,
   "id": "5636c951",
   "metadata": {},
   "outputs": [],
   "source": [
    "dataset.compute_event_properties([\"amplitude\", \"peak_velocity\"])\n",
    "\n",
    "dataset.events[0].frame.head()"
   ]
  },
  {
   "cell_type": "markdown",
   "id": "37e791cd",
   "metadata": {},
   "source": [
    "## Plotting our data"
   ]
  },
  {
   "cell_type": "markdown",
   "id": "6eb67559",
   "metadata": {},
   "source": [
    "*pymovements* provides a range of plotting functions.\n",
    "\n",
    "You can browse through the available plotting functions here:\n",
    "[Plotting](https://pymovements.readthedocs.io/en/latest/reference/pymovements.plotting.html#module-pymovements.plotting)\n",
    "\n",
    "In this this tutorial we will plot the saccadic main sequence of our data."
   ]
  },
  {
   "cell_type": "code",
   "execution_count": null,
   "id": "d2e0c40a",
   "metadata": {},
   "outputs": [],
   "source": [
    "pm.plotting.main_sequence_plot(dataset.events[0])"
   ]
  },
  {
   "cell_type": "markdown",
   "id": "5bdf2fb2",
   "metadata": {},
   "source": [
    "## Saving and loading your dataframes\n",
    "\n",
    "If we want to save interim results we can simply use the `save()` method like this:"
   ]
  },
  {
   "cell_type": "code",
   "execution_count": null,
   "id": "1b00ef41",
   "metadata": {},
   "outputs": [],
   "source": [
    "dataset.save()"
   ]
  },
  {
   "cell_type": "markdown",
   "id": "7836c285",
   "metadata": {},
   "source": [
    "Let's test this out by initializing a new `PublicDataset` object in the same directory and loading in the preprocessed gaze and event data.\n",
    "\n",
    "This time we don't need to download anything."
   ]
  },
  {
   "cell_type": "code",
   "execution_count": null,
   "id": "f92137a0",
   "metadata": {},
   "outputs": [],
   "source": [
    "preprocessed_dataset = pm.Dataset('ToyDataset', path='data/ToyDataset')\n",
    "\n",
    "dataset.load(events=True, preprocessed=True, subset=subset)\n",
    "\n",
    "display(dataset.gaze[0])\n",
    "display(dataset.events[0])"
   ]
  }
 ],
 "metadata": {
  "kernelspec": {
   "display_name": "Python 3 (ipykernel)",
   "language": "python",
   "name": "python3"
  },
  "language_info": {
   "codemirror_mode": {
    "name": "ipython",
    "version": 3
   },
   "file_extension": ".py",
   "mimetype": "text/x-python",
   "name": "python",
   "nbconvert_exporter": "python",
   "pygments_lexer": "ipython3",
   "version": "3.11.3"
  }
 },
 "nbformat": 4,
 "nbformat_minor": 5
}
