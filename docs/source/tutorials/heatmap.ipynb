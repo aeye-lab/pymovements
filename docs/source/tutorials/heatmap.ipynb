{
 "cells": [
  {
   "cell_type": "code",
   "execution_count": null,
   "metadata": {},
   "outputs": [],
   "source": [
    "import pymovements as pm\n",
    "\n",
    "%load_ext autoreload\n",
    "%autoreload 2"
   ]
  },
  {
   "cell_type": "code",
   "execution_count": null,
   "metadata": {},
   "outputs": [],
   "source": [
    "# Load Data\n",
    "dataset = pm.datasets.ToyDataset(\n",
    "    root='data/',\n",
    "    download=True,\n",
    "    extract=True,\n",
    "    remove_finished=True,\n",
    ")\n",
    "\n",
    "dataset.load()\n",
    "dataset.pix2deg()"
   ]
  },
  {
   "cell_type": "code",
   "execution_count": null,
   "metadata": {},
   "outputs": [],
   "source": [
    "figure = pm.plotting.heatmap(\n",
    "    dataset.gaze[5],\n",
    "    position_columns=('x_right_pix', 'y_right_pix'),\n",
    "    show_cbar=True,\n",
    "    origin='upper',\n",
    "    title='Gaze Heatmap',\n",
    ")"
   ]
  },
  {
   "cell_type": "code",
   "execution_count": null,
   "metadata": {},
   "outputs": [],
   "source": [
    "figure = pm.plotting.heatmap(\n",
    "    dataset.gaze[5],\n",
    "    position_columns=('x_right_pos', 'y_right_pos'),\n",
    "    show_cbar=True,\n",
    "    origin='upper',\n",
    "    title='Gaze Heatmap',\n",
    ")"
   ]
  }
 ],
 "metadata": {
  "kernelspec": {
   "display_name": "Python 3.10",
   "language": "python",
   "name": "py3.10"
  },
  "language_info": {
   "codemirror_mode": {
    "name": "ipython",
    "version": 2
   },
   "file_extension": ".py",
   "mimetype": "text/x-python",
   "name": "python",
   "nbconvert_exporter": "python",
   "pygments_lexer": "ipython2",
   "version": "2.7.6"
  }
 },
 "nbformat": 4,
 "nbformat_minor": 0
}
