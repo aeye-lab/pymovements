{
 "cells": [
  {
   "cell_type": "markdown",
   "id": "0",
   "metadata": {},
   "source": [
    "# Creating Synthetic Data\n",
    "In this tutorial, we will demonstrate how to create synthetic data with `pymovements`."
   ]
  },
  {
   "cell_type": "markdown",
   "id": "1",
   "metadata": {},
   "source": [
    "## Step 1: Import Required Libraries\n",
    "We start by importing the necessary libraries for this tutorial:\n",
    "\n",
    "- `pymovements` for eye movement analysis and synthetic data generation.\n",
    "- `numpy` for numerical operations and array handling.\n",
    "- `polars` for fast DataFrame operations."
   ]
  },
  {
   "cell_type": "code",
   "execution_count": null,
   "id": "2",
   "metadata": {},
   "outputs": [],
   "source": [
    "import numpy as np\n",
    "import polars as pl\n",
    "\n",
    "import pymovements as pm"
   ]
  },
  {
   "cell_type": "markdown",
   "id": "3",
   "metadata": {},
   "source": [
    "## Step 2: Define Experiment Metadata\n",
    "We define the experimental setup using `pm.gaze.Experiment`. Each parameter describes the physical and technical properties of the experiment:\n",
    "\n",
    "- `screen_width_px=1280`: The width of the display in pixels.\n",
    "- `screen_height_px=1024`: The height of the display in pixels.\n",
    "- `screen_width_cm=38`: The physical width of the display in centimeters.\n",
    "- `screen_height_cm=30.2`: The physical height of the display in centimeters.\n",
    "- `distance_cm=68`: The distance from the observer's eyes to the screen in centimeters.\n",
    "- `origin='upper left'`: The coordinate origin for the screen (upper left corner).\n",
    "- `sampling_rate=1000`: The sampling rate of the eye tracker in Hertz (samples per second)."
   ]
  },
  {
   "cell_type": "code",
   "execution_count": null,
   "id": "4",
   "metadata": {},
   "outputs": [],
   "source": [
    "experiment = pm.gaze.Experiment(\n",
    "    screen_width_px=1280,\n",
    "    screen_height_px=1024,\n",
    "    screen_width_cm=38,\n",
    "    screen_height_cm=30.2,\n",
    "    distance_cm=68,\n",
    "    origin='upper left',\n",
    "    sampling_rate=1000,\n",
    ")"
   ]
  },
  {
   "cell_type": "markdown",
   "id": "5",
   "metadata": {},
   "source": [
    "## Step 3: Create Synthetic Gaze Data\n",
    "We generate synthetic gaze positions using `pm.synthetic.step_function`. This function simulates gaze jumps (steps) between different positions, with optional noise.\n",
    "\n",
    "Parameters:\n",
    "- `length=100`: Total number of samples in the generated signal. The output array will have this many time points\n",
    "- `steps=[0, 35, 50, 80]`: Indices where the gaze position changes (step points). The first step is at 0 (start), then at 35, 50, and 80. The list must be sorted in ascending order and must have the same length as `values`.\n",
    "- `values=[(20, 70), (50, 200), (200, 200), (170, 100)]`: The gaze position (x, y) in pixels that the signal will take from each corresponding  step onward (until the next step, or the end). For example,  after sample 0, the position is (20, 70), after 35 it's (50, 200), etc\n",
    "- `start_value=(0, 0)`: The initial gaze position before the first step.\n",
    "- `noise=15`: The standard deviation of Gaussian noise added to each sample (in pixels)."
   ]
  },
  {
   "cell_type": "code",
   "execution_count": null,
   "id": "6",
   "metadata": {},
   "outputs": [],
   "source": [
    "positions = pm.synthetic.step_function(\n",
    "    length=100,\n",
    "    steps=[0, 35, 50, 80],\n",
    "    values=[(20, 70), (50, 200), (200, 200), (170, 100)],\n",
    "    start_value=(0, 0),\n",
    "    noise=15,\n",
    ")"
   ]
  },
  {
   "cell_type": "markdown",
   "id": "7",
   "metadata": {},
   "source": [
    "## Step 4: Create a DataFrame for the Gaze Data\n",
    "We store the synthetic gaze data in a Polars DataFrame. This DataFrame will have three columns:\n",
    "\n",
    "- `time`: The sample index (from 0 to 99).\n",
    "- `x_pix`: The x-coordinate of the gaze in pixels.\n",
    "- `y_pix`: The y-coordinate of the gaze in pixels."
   ]
  },
  {
   "cell_type": "code",
   "execution_count": null,
   "id": "8",
   "metadata": {},
   "outputs": [],
   "source": [
    "df = pl.DataFrame({\n",
    "    'time': np.arange(100),\n",
    "    'x_pix': positions[:, 0],\n",
    "    'y_pix': positions[:, 1],\n",
    "})"
   ]
  },
  {
   "cell_type": "markdown",
   "id": "9",
   "metadata": {},
   "source": [
    "## Step 5: Create a Gaze Object\n",
    "We initialize a `pm.Gaze` object to analyze the gaze data. Parameters:\n",
    "\n",
    "- The first argument is the DataFrame containing the gaze data.\n",
    "- `pixel_columns=['x_pix', 'y_pix']`: Specifies which columns in the DataFrame contain the pixel coordinates of the gaze.\n",
    "- `experiment=experiment`: Passes the experiment metadata defined earlier."
   ]
  },
  {
   "cell_type": "code",
   "execution_count": null,
   "id": "10",
   "metadata": {},
   "outputs": [],
   "source": [
    "gaze = pm.Gaze(\n",
    "    df,\n",
    "    pixel_columns=['x_pix', 'y_pix'],\n",
    "    experiment=experiment,\n",
    ")"
   ]
  },
  {
   "cell_type": "markdown",
   "id": "11",
   "metadata": {},
   "source": [
    "## Step 6: Visualize the Gaze Trace \n",
    "We plot the gaze trace using the built-in plotting function:\n",
    "\n",
    "- `pm.plotting.traceplot(gaze)`: Visualizes the gaze path."
   ]
  },
  {
   "cell_type": "code",
   "execution_count": null,
   "id": "12",
   "metadata": {},
   "outputs": [],
   "source": [
    "pm.plotting.traceplot(gaze)"
   ]
  }
 ],
 "metadata": {},
 "nbformat": 4,
 "nbformat_minor": 5
}
