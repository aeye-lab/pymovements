{
 "cells": [
  {
   "cell_type": "markdown",
   "id": "955f8324",
   "metadata": {},
   "source": [
    "# Working with Local Dataset"
   ]
  },
  {
   "cell_type": "markdown",
   "id": "41dfe059",
   "metadata": {},
   "source": [
    "In this tutorial, we will show how to use your own local dataset with the Dataset class. The Dataset class can help you to manage and process your eyetracking data."
   ]
  },
  {
   "cell_type": "markdown",
   "id": "92ac248d",
   "metadata": {},
   "source": [
    "For demonstration purposes, we will use the raw data provided by the Toy dataset, a sample dataset that comes with pymovements."
   ]
  },
  {
   "cell_type": "code",
   "execution_count": 2,
   "id": "b1d8e6e8",
   "metadata": {},
   "outputs": [
    {
     "name": "stdout",
     "output_type": "stream",
     "text": [
      "Downloading http://github.com/aeye-lab/pymovements-toy-dataset/zipball/6cb5d663317bf418cec0c9abe1dde5085a8a8ebd/ to data/ToyDataset/downloads/pymovements-toy-dataset.zip\n"
     ]
    },
    {
     "data": {
      "text/plain": "pymovements-toy-dataset.zip: 0.00B [00:00, ?B/s]",
      "application/vnd.jupyter.widget-view+json": {
       "version_major": 2,
       "version_minor": 0,
       "model_id": "fee115a2c88f4e5e9cd223128992c535"
      }
     },
     "metadata": {},
     "output_type": "display_data"
    }
   ],
   "source": [
    "import pymovements as pm\n",
    "\n",
    "toy_dataset = pm.datasets.ToyDataset(\n",
    "    root='data/',\n",
    "    download=True,\n",
    "    extract=True,\n",
    "    remove_finished=True,\n",
    ")"
   ]
  },
  {
   "cell_type": "markdown",
   "id": "405ebd53",
   "metadata": {},
   "source": [
    "## Define your Experiment\n",
    "\n",
    "To use the Dataset class, we first need to create an Experiment instance. This class represents the properties of the experiment, such as the screen dimensions and sampling rate."
   ]
  },
  {
   "cell_type": "code",
   "execution_count": 3,
   "id": "a89a38a7",
   "metadata": {},
   "outputs": [],
   "source": [
    "experiment = pm.gaze.Experiment(\n",
    "    screen_width_px=1280,\n",
    "    screen_height_px=1024,\n",
    "    screen_width_cm=38,\n",
    "    screen_height_cm=30.2,\n",
    "    distance_cm=68,\n",
    "    origin='lower left',\n",
    "    sampling_rate=1000,\n",
    ")"
   ]
  },
  {
   "cell_type": "markdown",
   "id": "ddbcf20e",
   "metadata": {},
   "source": [
    "## Parameters for File Parsing"
   ]
  },
  {
   "cell_type": "markdown",
   "id": "cd6ab2fe",
   "metadata": {},
   "source": [
    "We also define a `filename_regex` which is a regular expression used to match and extract values from filenames of data files in the dataset. For example, `r'trial_(?P<text_id>\\d+)_(?P<page_id>\\d+).csv'` will match filenames that follow the pattern `trial_{text_id}_{page_id}.csv` and extract the values of `text_id` and `page_id` for each file."
   ]
  },
  {
   "cell_type": "code",
   "execution_count": 4,
   "id": "90a7d236",
   "metadata": {},
   "outputs": [],
   "source": [
    "filename_regex = r'trial_(?P<text_id>\\d+)_(?P<page_id>\\d+).csv'"
   ]
  },
  {
   "cell_type": "markdown",
   "id": "d38ae134",
   "metadata": {},
   "source": [
    "Both values of `text_id` and `page_id` are numeric. We can use a map to define the casting of these values."
   ]
  },
  {
   "cell_type": "code",
   "execution_count": 5,
   "id": "24a626f4",
   "metadata": {},
   "outputs": [],
   "source": [
    "filename_regex_dtypes = {\n",
    "    'text_id': int,\n",
    "    'page_id': int,\n",
    "}"
   ]
  },
  {
   "cell_type": "markdown",
   "id": "7e32b202",
   "metadata": {},
   "source": [
    "We can also adjust how the CSV files are read."
   ]
  },
  {
   "cell_type": "markdown",
   "id": "e039de9b",
   "metadata": {},
   "source": [
    "The `column_map` dictionary maps the original column names in the CSV files to the desired column names. Here the original column names are 'timestamp', **'x'**, and **'y'**, and the desired column names are **'time'**, **'x_right_pix'**, and **'y_right_pix'**, respectively."
   ]
  },
  {
   "cell_type": "code",
   "execution_count": 6,
   "id": "19d897a3",
   "metadata": {},
   "outputs": [],
   "source": [
    "column_map = {\n",
    "    'timestamp': 'time',\n",
    "    'x': 'x_right_pix',\n",
    "    'y': 'y_right_pix',\n",
    "}"
   ]
  },
  {
   "cell_type": "markdown",
   "id": "a1f91fdd",
   "metadata": {},
   "source": [
    "Here, we specify that the separator in the CSV files is a tab (**'\\t'**), and we provide the list of original column names and desired column names as the **'columns'** and **'new_columns'** parameters, respectively."
   ]
  },
  {
   "cell_type": "code",
   "execution_count": 7,
   "id": "14b40a9f",
   "metadata": {},
   "outputs": [],
   "source": [
    "read_csv_kwargs = {\n",
    "    'sep': '\\t',\n",
    "    'columns': list(column_map.keys()),\n",
    "    'new_columns': list(column_map.values()),\n",
    "}"
   ]
  },
  {
   "cell_type": "markdown",
   "id": "2f1c04a7",
   "metadata": {},
   "source": [
    "## Define and load the Dataset"
   ]
  },
  {
   "cell_type": "markdown",
   "id": "190ce9f6",
   "metadata": {},
   "source": [
    "Finaly we create a **Dataset** instance by passing in the root directory, Experiment instance, and other optional parameters such as the filename regular expression and custom CSV reading parameters. The `dataset_dirname`, `raw_dirname`, `preprocessed_dirname`, and `events_dirname` parameters define the names of the directories for the dataset, raw data, preprocessed data, and events data, respectively."
   ]
  },
  {
   "cell_type": "code",
   "execution_count": 8,
   "id": "22cb63cd",
   "metadata": {},
   "outputs": [],
   "source": [
    "# Define the path to the dataset directory\n",
    "dataset_dir = './data/ToyDataset/'\n",
    "\n",
    "# Set up the Dataset object\n",
    "dataset = pm.datasets.Dataset(\n",
    "    root=dataset_dir,\n",
    "    experiment=experiment,\n",
    "    filename_regex=filename_regex,\n",
    "    filename_regex_dtypes=filename_regex_dtypes,\n",
    "    custom_read_kwargs=read_csv_kwargs,\n",
    "    dataset_dirname='.',\n",
    "    raw_dirname='raw',\n",
    "    preprocessed_dirname='preprocessed',\n",
    "    events_dirname='events',\n",
    ")"
   ]
  },
  {
   "cell_type": "markdown",
   "id": "2ce1117c-b90c-44d9-8701-f12c01d47409",
   "metadata": {},
   "source": [
    "Now we can load the dataset. Here we select a subset including the first page of texts with ID 1 and 2."
   ]
  },
  {
   "cell_type": "code",
   "execution_count": 9,
   "id": "9bab0b02-6040-4927-8926-b5be44dc0a75",
   "metadata": {},
   "outputs": [
    {
     "data": {
      "text/plain": "  0%|          | 0/2 [00:00<?, ?it/s]",
      "application/vnd.jupyter.widget-view+json": {
       "version_major": 2,
       "version_minor": 0,
       "model_id": "13c1af71ed224209b05381201ddc3da3"
      }
     },
     "metadata": {},
     "output_type": "display_data"
    }
   ],
   "source": [
    "subset = {\n",
    "    'text_id': [1, 2],\n",
    "    'page_id': 1,\n",
    "}\n",
    "\n",
    "dataset.load(subset=subset)"
   ]
  },
  {
   "cell_type": "markdown",
   "id": "6b805c88-20b5-4e5b-8532-030bbd30d051",
   "metadata": {},
   "source": [
    "# Use the Dataset"
   ]
  },
  {
   "cell_type": "markdown",
   "id": "d00d7e6c",
   "metadata": {},
   "source": [
    "Once we have created the Dataset instance, we can use its methods to preprocess and analyze data in our local dataset."
   ]
  },
  {
   "cell_type": "code",
   "execution_count": 18,
   "id": "9e09dfb0-fe97-4c55-bfec-665833d0fc37",
   "metadata": {},
   "outputs": [
    {
     "data": {
      "text/plain": "shape: (23054, 9)\n┌─────────┬─────────┬────────────┬───────────┬─────┬───────────┬───────────┬───────────┬───────────┐\n│ text_id ┆ page_id ┆ time       ┆ x_right_p ┆ ... ┆ x_right_p ┆ y_right_p ┆ x_right_v ┆ y_right_v │\n│ ---     ┆ ---     ┆ ---        ┆ ix        ┆     ┆ os        ┆ os        ┆ el        ┆ el        │\n│ i64     ┆ i64     ┆ f64        ┆ ---       ┆     ┆ ---       ┆ ---       ┆ ---       ┆ ---       │\n│         ┆         ┆            ┆ f64       ┆     ┆ f64       ┆ f64       ┆ f64       ┆ f64       │\n╞═════════╪═════════╪════════════╪═══════════╪═════╪═══════════╪═══════════╪═══════════╪═══════════╡\n│ 1       ┆ 1       ┆ 2.415266e6 ┆ 176.8     ┆ ... ┆ -11.42040 ┆ -9.148145 ┆ -5.235971 ┆ -13.66694 │\n│         ┆         ┆            ┆           ┆     ┆ 3         ┆           ┆           ┆ 5         │\n│ 1       ┆ 1       ┆ 2.415267e6 ┆ 176.7     ┆ ... ┆ -11.42280 ┆ -9.157834 ┆ -3.004237 ┆ -9.630308 │\n│         ┆         ┆            ┆           ┆     ┆ 6         ┆           ┆           ┆           │\n│ 1       ┆ 1       ┆ 2.415268e6 ┆ 176.7     ┆ ... ┆ -11.42280 ┆ -9.169943 ┆ -0.772503 ┆ -5.59367  │\n│         ┆         ┆            ┆           ┆     ┆ 6         ┆           ┆           ┆           │\n│ 1       ┆ 1       ┆ 2.415269e6 ┆ 176.6     ┆ ... ┆ -11.42521 ┆ -9.169943 ┆ 1.459231  ┆ -1.557032 │\n│ ...     ┆ ...     ┆ ...        ┆ ...       ┆ ... ┆ ...       ┆ ...       ┆ ...       ┆ ...       │\n│ 1       ┆ 1       ┆ 2.438316e6 ┆ 650.1     ┆ ... ┆ 0.265149  ┆ 3.033792  ┆ -0.357339 ┆ -3.982536 │\n│ 1       ┆ 1       ┆ 2.438317e6 ┆ 650.2     ┆ ... ┆ 0.26765   ┆ 3.028836  ┆ -1.667582 ┆ -4.867566 │\n│ 1       ┆ 1       ┆ 2.438318e6 ┆ 650.0     ┆ ... ┆ 0.262648  ┆ 3.021402  ┆ -2.977824 ┆ -5.752595 │\n│ 1       ┆ 1       ┆ 2.438319e6 ┆ 649.7     ┆ ... ┆ 0.255144  ┆ 3.018924  ┆ -4.288067 ┆ -6.637625 │\n└─────────┴─────────┴────────────┴───────────┴─────┴───────────┴───────────┴───────────┴───────────┘",
      "text/html": "<div><style>\n.dataframe > thead > tr > th,\n.dataframe > tbody > tr > td {\n  text-align: right;\n}\n</style>\n<small>shape: (23054, 9)</small><table border=\"1\" class=\"dataframe\"><thead><tr><th>text_id</th><th>page_id</th><th>time</th><th>x_right_pix</th><th>y_right_pix</th><th>x_right_pos</th><th>y_right_pos</th><th>x_right_vel</th><th>y_right_vel</th></tr><tr><td>i64</td><td>i64</td><td>f64</td><td>f64</td><td>f64</td><td>f64</td><td>f64</td><td>f64</td><td>f64</td></tr></thead><tbody><tr><td>1</td><td>1</td><td>2.415266e6</td><td>176.8</td><td>140.2</td><td>-11.420403</td><td>-9.148145</td><td>-5.235971</td><td>-13.666945</td></tr><tr><td>1</td><td>1</td><td>2.415267e6</td><td>176.7</td><td>139.8</td><td>-11.422806</td><td>-9.157834</td><td>-3.004237</td><td>-9.630308</td></tr><tr><td>1</td><td>1</td><td>2.415268e6</td><td>176.7</td><td>139.3</td><td>-11.422806</td><td>-9.169943</td><td>-0.772503</td><td>-5.59367</td></tr><tr><td>1</td><td>1</td><td>2.415269e6</td><td>176.6</td><td>139.3</td><td>-11.42521</td><td>-9.169943</td><td>1.459231</td><td>-1.557032</td></tr><tr><td>1</td><td>1</td><td>2.41527e6</td><td>176.7</td><td>139.3</td><td>-11.422806</td><td>-9.169943</td><td>4.034446</td><td>1.556983</td></tr><tr><td>1</td><td>1</td><td>2.415271e6</td><td>176.8</td><td>139.5</td><td>-11.420403</td><td>-9.1651</td><td>6.695697</td><td>3.459956</td></tr><tr><td>1</td><td>1</td><td>2.415272e6</td><td>177.3</td><td>139.8</td><td>-11.408386</td><td>-9.157834</td><td>7.983442</td><td>3.20046</td></tr><tr><td>1</td><td>1</td><td>2.415273e6</td><td>177.8</td><td>140.0</td><td>-11.396367</td><td>-9.15299</td><td>6.78167</td><td>3.200507</td></tr><tr><td>1</td><td>1</td><td>2.415274e6</td><td>178.3</td><td>140.0</td><td>-11.384348</td><td>-9.15299</td><td>3.948804</td><td>2.941092</td></tr><tr><td>1</td><td>1</td><td>2.415275e6</td><td>178.3</td><td>139.9</td><td>-11.384348</td><td>-9.155412</td><td>0.343335</td><td>3.460254</td></tr><tr><td>1</td><td>1</td><td>2.415276e6</td><td>178.0</td><td>140.2</td><td>-11.39156</td><td>-9.148145</td><td>-1.717019</td><td>4.152379</td></tr><tr><td>1</td><td>1</td><td>2.415277e6</td><td>177.7</td><td>140.4</td><td>-11.398771</td><td>-9.143301</td><td>-1.974598</td><td>5.36358</td></tr><tr><td>...</td><td>...</td><td>...</td><td>...</td><td>...</td><td>...</td><td>...</td><td>...</td><td>...</td></tr><tr><td>1</td><td>1</td><td>2.438308e6</td><td>649.1</td><td>633.7</td><td>0.240135</td><td>3.033792</td><td>-0.268006</td><td>0.708004</td></tr><tr><td>1</td><td>1</td><td>2.438309e6</td><td>648.8</td><td>633.9</td><td>0.232631</td><td>3.038748</td><td>2.23337</td><td>2.566488</td></tr><tr><td>1</td><td>1</td><td>2.43831e6</td><td>649.1</td><td>634.1</td><td>0.240135</td><td>3.043704</td><td>4.109403</td><td>2.566496</td></tr><tr><td>1</td><td>1</td><td>2.438311e6</td><td>649.6</td><td>634.2</td><td>0.252642</td><td>3.046182</td><td>5.181423</td><td>0.707998</td></tr><tr><td>1</td><td>1</td><td>2.438312e6</td><td>650.1</td><td>634.1</td><td>0.265149</td><td>3.043704</td><td>4.73475</td><td>-0.530993</td></tr><tr><td>1</td><td>1</td><td>2.438313e6</td><td>650.0</td><td>634.0</td><td>0.262648</td><td>3.041226</td><td>3.037385</td><td>-1.769984</td></tr><tr><td>1</td><td>1</td><td>2.438314e6</td><td>649.9</td><td>633.9</td><td>0.260146</td><td>3.038748</td><td>1.518691</td><td>-2.654987</td></tr><tr><td>1</td><td>1</td><td>2.438315e6</td><td>649.9</td><td>633.9</td><td>0.260146</td><td>3.038748</td><td>0.268004</td><td>-3.451512</td></tr><tr><td>1</td><td>1</td><td>2.438316e6</td><td>650.1</td><td>633.7</td><td>0.265149</td><td>3.033792</td><td>-0.357339</td><td>-3.982536</td></tr><tr><td>1</td><td>1</td><td>2.438317e6</td><td>650.2</td><td>633.5</td><td>0.26765</td><td>3.028836</td><td>-1.667582</td><td>-4.867566</td></tr><tr><td>1</td><td>1</td><td>2.438318e6</td><td>650.0</td><td>633.2</td><td>0.262648</td><td>3.021402</td><td>-2.977824</td><td>-5.752595</td></tr><tr><td>1</td><td>1</td><td>2.438319e6</td><td>649.7</td><td>633.1</td><td>0.255144</td><td>3.018924</td><td>-4.288067</td><td>-6.637625</td></tr></tbody></table></div>"
     },
     "execution_count": 18,
     "metadata": {},
     "output_type": "execute_result"
    }
   ],
   "source": [
    "dataset.gaze[0].frame"
   ]
  },
  {
   "cell_type": "markdown",
   "source": [
    "Here we use the `pix2deg` method to convert the pixel coordinates to degrees of visual angle."
   ],
   "metadata": {
    "collapsed": false
   }
  },
  {
   "cell_type": "code",
   "execution_count": 14,
   "id": "08024785",
   "metadata": {},
   "outputs": [
    {
     "data": {
      "text/plain": "  0%|          | 0/2 [00:00<?, ?it/s]",
      "application/vnd.jupyter.widget-view+json": {
       "version_major": 2,
       "version_minor": 0,
       "model_id": "5df75ab14ced48ceaace17419adaf9a0"
      }
     },
     "metadata": {},
     "output_type": "display_data"
    },
    {
     "data": {
      "text/plain": "shape: (23054, 9)\n┌─────────┬─────────┬────────────┬───────────┬─────┬───────────┬───────────┬───────────┬───────────┐\n│ text_id ┆ page_id ┆ time       ┆ x_right_p ┆ ... ┆ x_right_p ┆ y_right_p ┆ x_right_v ┆ y_right_v │\n│ ---     ┆ ---     ┆ ---        ┆ ix        ┆     ┆ os        ┆ os        ┆ el        ┆ el        │\n│ i64     ┆ i64     ┆ f64        ┆ ---       ┆     ┆ ---       ┆ ---       ┆ ---       ┆ ---       │\n│         ┆         ┆            ┆ f64       ┆     ┆ f64       ┆ f64       ┆ f64       ┆ f64       │\n╞═════════╪═════════╪════════════╪═══════════╪═════╪═══════════╪═══════════╪═══════════╪═══════════╡\n│ 1       ┆ 1       ┆ 2.415266e6 ┆ 176.8     ┆ ... ┆ -11.42040 ┆ -9.148145 ┆ -5.235971 ┆ -13.66694 │\n│         ┆         ┆            ┆           ┆     ┆ 3         ┆           ┆           ┆ 5         │\n│ 1       ┆ 1       ┆ 2.415267e6 ┆ 176.7     ┆ ... ┆ -11.42280 ┆ -9.157834 ┆ -3.004237 ┆ -9.630308 │\n│         ┆         ┆            ┆           ┆     ┆ 6         ┆           ┆           ┆           │\n│ 1       ┆ 1       ┆ 2.415268e6 ┆ 176.7     ┆ ... ┆ -11.42280 ┆ -9.169943 ┆ -0.772503 ┆ -5.59367  │\n│         ┆         ┆            ┆           ┆     ┆ 6         ┆           ┆           ┆           │\n│ 1       ┆ 1       ┆ 2.415269e6 ┆ 176.6     ┆ ... ┆ -11.42521 ┆ -9.169943 ┆ 1.459231  ┆ -1.557032 │\n│ ...     ┆ ...     ┆ ...        ┆ ...       ┆ ... ┆ ...       ┆ ...       ┆ ...       ┆ ...       │\n│ 1       ┆ 1       ┆ 2.438316e6 ┆ 650.1     ┆ ... ┆ 0.265149  ┆ 3.033792  ┆ -0.357339 ┆ -3.982536 │\n│ 1       ┆ 1       ┆ 2.438317e6 ┆ 650.2     ┆ ... ┆ 0.26765   ┆ 3.028836  ┆ -1.667582 ┆ -4.867566 │\n│ 1       ┆ 1       ┆ 2.438318e6 ┆ 650.0     ┆ ... ┆ 0.262648  ┆ 3.021402  ┆ -2.977824 ┆ -5.752595 │\n│ 1       ┆ 1       ┆ 2.438319e6 ┆ 649.7     ┆ ... ┆ 0.255144  ┆ 3.018924  ┆ -4.288067 ┆ -6.637625 │\n└─────────┴─────────┴────────────┴───────────┴─────┴───────────┴───────────┴───────────┴───────────┘",
      "text/html": "<div><style>\n.dataframe > thead > tr > th,\n.dataframe > tbody > tr > td {\n  text-align: right;\n}\n</style>\n<small>shape: (23054, 9)</small><table border=\"1\" class=\"dataframe\"><thead><tr><th>text_id</th><th>page_id</th><th>time</th><th>x_right_pix</th><th>y_right_pix</th><th>x_right_pos</th><th>y_right_pos</th><th>x_right_vel</th><th>y_right_vel</th></tr><tr><td>i64</td><td>i64</td><td>f64</td><td>f64</td><td>f64</td><td>f64</td><td>f64</td><td>f64</td><td>f64</td></tr></thead><tbody><tr><td>1</td><td>1</td><td>2.415266e6</td><td>176.8</td><td>140.2</td><td>-11.420403</td><td>-9.148145</td><td>-5.235971</td><td>-13.666945</td></tr><tr><td>1</td><td>1</td><td>2.415267e6</td><td>176.7</td><td>139.8</td><td>-11.422806</td><td>-9.157834</td><td>-3.004237</td><td>-9.630308</td></tr><tr><td>1</td><td>1</td><td>2.415268e6</td><td>176.7</td><td>139.3</td><td>-11.422806</td><td>-9.169943</td><td>-0.772503</td><td>-5.59367</td></tr><tr><td>1</td><td>1</td><td>2.415269e6</td><td>176.6</td><td>139.3</td><td>-11.42521</td><td>-9.169943</td><td>1.459231</td><td>-1.557032</td></tr><tr><td>1</td><td>1</td><td>2.41527e6</td><td>176.7</td><td>139.3</td><td>-11.422806</td><td>-9.169943</td><td>4.034446</td><td>1.556983</td></tr><tr><td>1</td><td>1</td><td>2.415271e6</td><td>176.8</td><td>139.5</td><td>-11.420403</td><td>-9.1651</td><td>6.695697</td><td>3.459956</td></tr><tr><td>1</td><td>1</td><td>2.415272e6</td><td>177.3</td><td>139.8</td><td>-11.408386</td><td>-9.157834</td><td>7.983442</td><td>3.20046</td></tr><tr><td>1</td><td>1</td><td>2.415273e6</td><td>177.8</td><td>140.0</td><td>-11.396367</td><td>-9.15299</td><td>6.78167</td><td>3.200507</td></tr><tr><td>1</td><td>1</td><td>2.415274e6</td><td>178.3</td><td>140.0</td><td>-11.384348</td><td>-9.15299</td><td>3.948804</td><td>2.941092</td></tr><tr><td>1</td><td>1</td><td>2.415275e6</td><td>178.3</td><td>139.9</td><td>-11.384348</td><td>-9.155412</td><td>0.343335</td><td>3.460254</td></tr><tr><td>1</td><td>1</td><td>2.415276e6</td><td>178.0</td><td>140.2</td><td>-11.39156</td><td>-9.148145</td><td>-1.717019</td><td>4.152379</td></tr><tr><td>1</td><td>1</td><td>2.415277e6</td><td>177.7</td><td>140.4</td><td>-11.398771</td><td>-9.143301</td><td>-1.974598</td><td>5.36358</td></tr><tr><td>...</td><td>...</td><td>...</td><td>...</td><td>...</td><td>...</td><td>...</td><td>...</td><td>...</td></tr><tr><td>1</td><td>1</td><td>2.438308e6</td><td>649.1</td><td>633.7</td><td>0.240135</td><td>3.033792</td><td>-0.268006</td><td>0.708004</td></tr><tr><td>1</td><td>1</td><td>2.438309e6</td><td>648.8</td><td>633.9</td><td>0.232631</td><td>3.038748</td><td>2.23337</td><td>2.566488</td></tr><tr><td>1</td><td>1</td><td>2.43831e6</td><td>649.1</td><td>634.1</td><td>0.240135</td><td>3.043704</td><td>4.109403</td><td>2.566496</td></tr><tr><td>1</td><td>1</td><td>2.438311e6</td><td>649.6</td><td>634.2</td><td>0.252642</td><td>3.046182</td><td>5.181423</td><td>0.707998</td></tr><tr><td>1</td><td>1</td><td>2.438312e6</td><td>650.1</td><td>634.1</td><td>0.265149</td><td>3.043704</td><td>4.73475</td><td>-0.530993</td></tr><tr><td>1</td><td>1</td><td>2.438313e6</td><td>650.0</td><td>634.0</td><td>0.262648</td><td>3.041226</td><td>3.037385</td><td>-1.769984</td></tr><tr><td>1</td><td>1</td><td>2.438314e6</td><td>649.9</td><td>633.9</td><td>0.260146</td><td>3.038748</td><td>1.518691</td><td>-2.654987</td></tr><tr><td>1</td><td>1</td><td>2.438315e6</td><td>649.9</td><td>633.9</td><td>0.260146</td><td>3.038748</td><td>0.268004</td><td>-3.451512</td></tr><tr><td>1</td><td>1</td><td>2.438316e6</td><td>650.1</td><td>633.7</td><td>0.265149</td><td>3.033792</td><td>-0.357339</td><td>-3.982536</td></tr><tr><td>1</td><td>1</td><td>2.438317e6</td><td>650.2</td><td>633.5</td><td>0.26765</td><td>3.028836</td><td>-1.667582</td><td>-4.867566</td></tr><tr><td>1</td><td>1</td><td>2.438318e6</td><td>650.0</td><td>633.2</td><td>0.262648</td><td>3.021402</td><td>-2.977824</td><td>-5.752595</td></tr><tr><td>1</td><td>1</td><td>2.438319e6</td><td>649.7</td><td>633.1</td><td>0.255144</td><td>3.018924</td><td>-4.288067</td><td>-6.637625</td></tr></tbody></table></div>"
     },
     "execution_count": 14,
     "metadata": {},
     "output_type": "execute_result"
    }
   ],
   "source": [
    "dataset.pix2deg()\n",
    "\n",
    "dataset.gaze[0].frame"
   ]
  },
  {
   "cell_type": "markdown",
   "source": [
    "We can use the `pos2vel` method to calculate the velocity of the gaze position."
   ],
   "metadata": {
    "collapsed": false
   }
  },
  {
   "cell_type": "code",
   "execution_count": 15,
   "id": "1c9ed003-45ca-40a7-8a1d-d397babaf31c",
   "metadata": {},
   "outputs": [
    {
     "data": {
      "text/plain": "  0%|          | 0/2 [00:00<?, ?it/s]",
      "application/vnd.jupyter.widget-view+json": {
       "version_major": 2,
       "version_minor": 0,
       "model_id": "9651f3bb15004caaa51bb445a0c63410"
      }
     },
     "metadata": {},
     "output_type": "display_data"
    },
    {
     "data": {
      "text/plain": "shape: (23054, 9)\n┌─────────┬─────────┬────────────┬───────────┬─────┬───────────┬───────────┬───────────┬───────────┐\n│ text_id ┆ page_id ┆ time       ┆ x_right_p ┆ ... ┆ x_right_p ┆ y_right_p ┆ x_right_v ┆ y_right_v │\n│ ---     ┆ ---     ┆ ---        ┆ ix        ┆     ┆ os        ┆ os        ┆ el        ┆ el        │\n│ i64     ┆ i64     ┆ f64        ┆ ---       ┆     ┆ ---       ┆ ---       ┆ ---       ┆ ---       │\n│         ┆         ┆            ┆ f64       ┆     ┆ f64       ┆ f64       ┆ f64       ┆ f64       │\n╞═════════╪═════════╪════════════╪═══════════╪═════╪═══════════╪═══════════╪═══════════╪═══════════╡\n│ 1       ┆ 1       ┆ 2.415266e6 ┆ 176.8     ┆ ... ┆ -11.42040 ┆ -9.148145 ┆ -5.235971 ┆ -13.66694 │\n│         ┆         ┆            ┆           ┆     ┆ 3         ┆           ┆           ┆ 5         │\n│ 1       ┆ 1       ┆ 2.415267e6 ┆ 176.7     ┆ ... ┆ -11.42280 ┆ -9.157834 ┆ -3.004237 ┆ -9.630308 │\n│         ┆         ┆            ┆           ┆     ┆ 6         ┆           ┆           ┆           │\n│ 1       ┆ 1       ┆ 2.415268e6 ┆ 176.7     ┆ ... ┆ -11.42280 ┆ -9.169943 ┆ -0.772503 ┆ -5.59367  │\n│         ┆         ┆            ┆           ┆     ┆ 6         ┆           ┆           ┆           │\n│ 1       ┆ 1       ┆ 2.415269e6 ┆ 176.6     ┆ ... ┆ -11.42521 ┆ -9.169943 ┆ 1.459231  ┆ -1.557032 │\n│ ...     ┆ ...     ┆ ...        ┆ ...       ┆ ... ┆ ...       ┆ ...       ┆ ...       ┆ ...       │\n│ 1       ┆ 1       ┆ 2.438316e6 ┆ 650.1     ┆ ... ┆ 0.265149  ┆ 3.033792  ┆ -0.357339 ┆ -3.982536 │\n│ 1       ┆ 1       ┆ 2.438317e6 ┆ 650.2     ┆ ... ┆ 0.26765   ┆ 3.028836  ┆ -1.667582 ┆ -4.867566 │\n│ 1       ┆ 1       ┆ 2.438318e6 ┆ 650.0     ┆ ... ┆ 0.262648  ┆ 3.021402  ┆ -2.977824 ┆ -5.752595 │\n│ 1       ┆ 1       ┆ 2.438319e6 ┆ 649.7     ┆ ... ┆ 0.255144  ┆ 3.018924  ┆ -4.288067 ┆ -6.637625 │\n└─────────┴─────────┴────────────┴───────────┴─────┴───────────┴───────────┴───────────┴───────────┘",
      "text/html": "<div><style>\n.dataframe > thead > tr > th,\n.dataframe > tbody > tr > td {\n  text-align: right;\n}\n</style>\n<small>shape: (23054, 9)</small><table border=\"1\" class=\"dataframe\"><thead><tr><th>text_id</th><th>page_id</th><th>time</th><th>x_right_pix</th><th>y_right_pix</th><th>x_right_pos</th><th>y_right_pos</th><th>x_right_vel</th><th>y_right_vel</th></tr><tr><td>i64</td><td>i64</td><td>f64</td><td>f64</td><td>f64</td><td>f64</td><td>f64</td><td>f64</td><td>f64</td></tr></thead><tbody><tr><td>1</td><td>1</td><td>2.415266e6</td><td>176.8</td><td>140.2</td><td>-11.420403</td><td>-9.148145</td><td>-5.235971</td><td>-13.666945</td></tr><tr><td>1</td><td>1</td><td>2.415267e6</td><td>176.7</td><td>139.8</td><td>-11.422806</td><td>-9.157834</td><td>-3.004237</td><td>-9.630308</td></tr><tr><td>1</td><td>1</td><td>2.415268e6</td><td>176.7</td><td>139.3</td><td>-11.422806</td><td>-9.169943</td><td>-0.772503</td><td>-5.59367</td></tr><tr><td>1</td><td>1</td><td>2.415269e6</td><td>176.6</td><td>139.3</td><td>-11.42521</td><td>-9.169943</td><td>1.459231</td><td>-1.557032</td></tr><tr><td>1</td><td>1</td><td>2.41527e6</td><td>176.7</td><td>139.3</td><td>-11.422806</td><td>-9.169943</td><td>4.034446</td><td>1.556983</td></tr><tr><td>1</td><td>1</td><td>2.415271e6</td><td>176.8</td><td>139.5</td><td>-11.420403</td><td>-9.1651</td><td>6.695697</td><td>3.459956</td></tr><tr><td>1</td><td>1</td><td>2.415272e6</td><td>177.3</td><td>139.8</td><td>-11.408386</td><td>-9.157834</td><td>7.983442</td><td>3.20046</td></tr><tr><td>1</td><td>1</td><td>2.415273e6</td><td>177.8</td><td>140.0</td><td>-11.396367</td><td>-9.15299</td><td>6.78167</td><td>3.200507</td></tr><tr><td>1</td><td>1</td><td>2.415274e6</td><td>178.3</td><td>140.0</td><td>-11.384348</td><td>-9.15299</td><td>3.948804</td><td>2.941092</td></tr><tr><td>1</td><td>1</td><td>2.415275e6</td><td>178.3</td><td>139.9</td><td>-11.384348</td><td>-9.155412</td><td>0.343335</td><td>3.460254</td></tr><tr><td>1</td><td>1</td><td>2.415276e6</td><td>178.0</td><td>140.2</td><td>-11.39156</td><td>-9.148145</td><td>-1.717019</td><td>4.152379</td></tr><tr><td>1</td><td>1</td><td>2.415277e6</td><td>177.7</td><td>140.4</td><td>-11.398771</td><td>-9.143301</td><td>-1.974598</td><td>5.36358</td></tr><tr><td>...</td><td>...</td><td>...</td><td>...</td><td>...</td><td>...</td><td>...</td><td>...</td><td>...</td></tr><tr><td>1</td><td>1</td><td>2.438308e6</td><td>649.1</td><td>633.7</td><td>0.240135</td><td>3.033792</td><td>-0.268006</td><td>0.708004</td></tr><tr><td>1</td><td>1</td><td>2.438309e6</td><td>648.8</td><td>633.9</td><td>0.232631</td><td>3.038748</td><td>2.23337</td><td>2.566488</td></tr><tr><td>1</td><td>1</td><td>2.43831e6</td><td>649.1</td><td>634.1</td><td>0.240135</td><td>3.043704</td><td>4.109403</td><td>2.566496</td></tr><tr><td>1</td><td>1</td><td>2.438311e6</td><td>649.6</td><td>634.2</td><td>0.252642</td><td>3.046182</td><td>5.181423</td><td>0.707998</td></tr><tr><td>1</td><td>1</td><td>2.438312e6</td><td>650.1</td><td>634.1</td><td>0.265149</td><td>3.043704</td><td>4.73475</td><td>-0.530993</td></tr><tr><td>1</td><td>1</td><td>2.438313e6</td><td>650.0</td><td>634.0</td><td>0.262648</td><td>3.041226</td><td>3.037385</td><td>-1.769984</td></tr><tr><td>1</td><td>1</td><td>2.438314e6</td><td>649.9</td><td>633.9</td><td>0.260146</td><td>3.038748</td><td>1.518691</td><td>-2.654987</td></tr><tr><td>1</td><td>1</td><td>2.438315e6</td><td>649.9</td><td>633.9</td><td>0.260146</td><td>3.038748</td><td>0.268004</td><td>-3.451512</td></tr><tr><td>1</td><td>1</td><td>2.438316e6</td><td>650.1</td><td>633.7</td><td>0.265149</td><td>3.033792</td><td>-0.357339</td><td>-3.982536</td></tr><tr><td>1</td><td>1</td><td>2.438317e6</td><td>650.2</td><td>633.5</td><td>0.26765</td><td>3.028836</td><td>-1.667582</td><td>-4.867566</td></tr><tr><td>1</td><td>1</td><td>2.438318e6</td><td>650.0</td><td>633.2</td><td>0.262648</td><td>3.021402</td><td>-2.977824</td><td>-5.752595</td></tr><tr><td>1</td><td>1</td><td>2.438319e6</td><td>649.7</td><td>633.1</td><td>0.255144</td><td>3.018924</td><td>-4.288067</td><td>-6.637625</td></tr></tbody></table></div>"
     },
     "execution_count": 15,
     "metadata": {},
     "output_type": "execute_result"
    }
   ],
   "source": [
    "dataset.pos2vel(method='savitzky_golay', window_length=7, polyorder=2)\n",
    "\n",
    "dataset.gaze[0].frame"
   ]
  }
 ],
 "metadata": {
  "kernelspec": {
   "display_name": "Python 3 (ipykernel)",
   "language": "python",
   "name": "python3"
  },
  "language_info": {
   "codemirror_mode": {
    "name": "ipython",
    "version": 3
   },
   "file_extension": ".py",
   "mimetype": "text/x-python",
   "name": "python",
   "nbconvert_exporter": "python",
   "pygments_lexer": "ipython3",
   "version": "3.10.6"
  }
 },
 "nbformat": 4,
 "nbformat_minor": 5
}
